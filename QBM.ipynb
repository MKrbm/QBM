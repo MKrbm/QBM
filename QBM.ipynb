{
 "cells": [
  {
   "cell_type": "code",
   "execution_count": 1,
   "id": "89b8243d",
   "metadata": {},
   "outputs": [],
   "source": [
    "import numpy as np\n",
    "from qiskit import *\n",
    "from qiskit.circuit import Parameter\n",
    "from qiskit.quantum_info import Statevector, partial_trace, DensityMatrix\n",
    "\n",
    "from sklearn.linear_model import Ridge, LinearRegression\n",
    "import numpy as np"
   ]
  },
  {
   "cell_type": "code",
   "execution_count": 2,
   "id": "ed6b436d",
   "metadata": {
    "scrolled": true
   },
   "outputs": [
    {
     "data": {
      "image/png": "[encoded data removed]",
      "text/plain": [
       "<Figure size 340.233x144.48 with 1 Axes>"
      ]
     },
     "execution_count": 2,
     "metadata": {},
     "output_type": "execute_result"
    }
   ],
   "source": [
    "q = QuantumRegister(2)\n",
    "c = ClassicalRegister(2)\n",
    "\n",
    "a1 = Parameter('a1')\n",
    "V1 = QuantumCircuit(1, name='V0')\n",
    "V1.ry(a1,0)\n",
    "\n",
    "a2 = Parameter('a2')\n",
    "V2 = QuantumCircuit(2, name='V2')\n",
    "V2.ry(a2,1)\n",
    "V2.cnot(1,0)\n",
    "V2.cnot(0,1)\n",
    "\n",
    "a3 = Parameter('a3')\n",
    "V3 = QuantumCircuit(1, name='V3')\n",
    "V3.ry(np.pi/2 + a3,0)\n",
    "\n",
    "a4 = Parameter('a4')\n",
    "V4 = QuantumCircuit(2, name='V4')\n",
    "V4.ry(a4,1)\n",
    "V4.cnot(0,1)\n",
    "\n",
    "\n",
    "rho = QuantumCircuit(q, name='rho')\n",
    "rho.append(V1.to_instruction(),[q[0]])\n",
    "rho.append(V2.to_instruction(),[q[0],q[1]])\n",
    "rho.append(V3.to_instruction(),[q[0]])\n",
    "rho.append(V4.to_instruction(),[q[0],q[1]])\n",
    "\n",
    "rho.draw('mpl')"
   ]
  },
  {
   "cell_type": "code",
   "execution_count": 3,
   "id": "65ffe6fe",
   "metadata": {},
   "outputs": [],
   "source": [
    "theta_range = np.tile(np.linspace(0,np.pi,10),(5,1)).transpose()"
   ]
  },
  {
   "cell_type": "code",
   "execution_count": 4,
   "id": "117ab3fe",
   "metadata": {},
   "outputs": [],
   "source": [
    "job = execute(rho,\n",
    "              backend=BasicAer.get_backend('statevector_simulator'),\n",
    "              parameter_binds=[{a1: theta[0], a2 : theta[1], a3 : theta[2], a4 : theta[3]} for theta in theta_range])\n"
   ]
  },
  {
   "cell_type": "code",
   "execution_count": 5,
   "id": "ba9fcf8e",
   "metadata": {
    "scrolled": true
   },
   "outputs": [],
   "source": [
    "# backend = BasicAer.get_backend('statevector_simulator')\n",
    "# job = execute(rho, backend)\n",
    "# qc_state = job.result().get_statevector(rho)\n",
    "# qc_state"
   ]
  },
  {
   "cell_type": "code",
   "execution_count": 6,
   "id": "55237721",
   "metadata": {},
   "outputs": [],
   "source": [
    "# from qiskit.quantum_info import Statevector, partial_trace\n",
    "\n",
    "# out = Statevector.from_instruction(rho)\n",
    "# partial_trace(out,[1])"
   ]
  },
  {
   "cell_type": "code",
   "execution_count": 7,
   "id": "34a60c36",
   "metadata": {
    "scrolled": true
   },
   "outputs": [],
   "source": [
    "# partial_trace(out,[1])"
   ]
  },
  {
   "cell_type": "code",
   "execution_count": 8,
   "id": "fa09f1f0",
   "metadata": {},
   "outputs": [],
   "source": [
    "theta = np.random.rand(4)\n",
    "rho1 = rho.bind_parameters({a1: theta[0], a2 : theta[1], a3 : theta[2], a4 : theta[3]})\n",
    "# rho1.measure_all()\n",
    "# simulator = Aer.get_backend('aer_simulator')\n",
    "# circ = transpile(rho1, simulator)\n",
    "# result = simulator.run(circ).result()\n",
    "# counts = result.get_counts(circ)"
   ]
  },
  {
   "cell_type": "code",
   "execution_count": 9,
   "id": "7c383c20",
   "metadata": {},
   "outputs": [
    {
     "data": {
      "text/plain": [
       "[]"
      ]
     },
     "execution_count": 9,
     "metadata": {},
     "output_type": "execute_result"
    }
   ],
   "source": [
    "IBMQ.providers()"
   ]
  },
  {
   "cell_type": "code",
   "execution_count": 10,
   "id": "b7add9a3",
   "metadata": {},
   "outputs": [],
   "source": [
    "import numpy as np\n",
    "from qiskit import *\n",
    "from qiskit.circuit import Parameter\n",
    "import qiskit.quantum_info as qi\n",
    "from qiskit import IBMQ\n",
    "from IBM_Q import API_IBM\n",
    "\n",
    "\n",
    "\n",
    "IBMQ.load_account() # Load account from disk\n",
    "IBMQ.providers()    # List all available providers\n",
    "\n",
    "provider = IBMQ.get_provider(hub='ibm-q')\n",
    "backend = provider.get_backend('ibmq_manila')\n",
    "\n",
    "from qiskit.compiler import transpile, assemble\n",
    "mapped_circuit = transpile(rho1, backend=backend)\n",
    "\n"
   ]
  },
  {
   "cell_type": "code",
   "execution_count": 11,
   "id": "c50f4ef4",
   "metadata": {},
   "outputs": [],
   "source": [
    "# shots = 10000\n",
    "# sim_statevector = Aer.get_backend('aer_simulator_statevector')\n",
    "# job_statevector = sim_statevector.run(circ, shots=shots)\n",
    "# counts_statevector = job_statevector.result().get_counts()"
   ]
  },
  {
   "cell_type": "code",
   "execution_count": 12,
   "id": "4f8809fd",
   "metadata": {},
   "outputs": [],
   "source": [
    "\n",
    "\n",
    "# # Transpile for simulator\n",
    "# simulator = Aer.get_backend('aer_simulator')\n",
    "# circ = transpile(circ, simulator)\n",
    "\n",
    "# # Run and get counts\n",
    "# result = simulator.run(circ).result()\n",
    "# counts = result.get_counts(circ)\n",
    "# counts"
   ]
  },
  {
   "cell_type": "code",
   "execution_count": 13,
   "id": "5837b563",
   "metadata": {},
   "outputs": [
    {
     "name": "stderr",
     "output_type": "stream",
     "text": [
      "/home/keisuke/miniconda3/envs/qiskit/lib/python3.9/site-packages/qiskit/ignis/verification/tomography/basis/circuits.py:468: DeprecationWarning: The QuantumCircuit.__iadd__() method is being deprecated. Use the compose() (potentially with the inplace=True argument) and tensor() methods which are more flexible w.r.t circuit register compatibility.\n",
      "  prep += circuit\n",
      "/home/keisuke/miniconda3/envs/qiskit/lib/python3.9/site-packages/qiskit/circuit/quantumcircuit.py:876: DeprecationWarning: The QuantumCircuit.extend() method is being deprecated. Use the compose() (potentially with the inplace=True argument) and tensor() methods which are more flexible w.r.t circuit register compatibility.\n",
      "  return self.extend(rhs)\n",
      "/home/keisuke/miniconda3/envs/qiskit/lib/python3.9/site-packages/qiskit/ignis/verification/tomography/basis/circuits.py:478: DeprecationWarning: The QuantumCircuit.__add__() method is being deprecated.Use the compose() method which is more flexible w.r.t circuit register compatibility.\n",
      "  circ = prep + meas\n",
      "/home/keisuke/miniconda3/envs/qiskit/lib/python3.9/site-packages/qiskit/circuit/quantumcircuit.py:869: DeprecationWarning: The QuantumCircuit.combine() method is being deprecated. Use the compose() method which is more flexible w.r.t circuit register compatibility.\n",
      "  return self.combine(rhs)\n"
     ]
    }
   ],
   "source": [
    "from qiskit.ignis.verification.tomography import state_tomography_circuits, StateTomographyFitter\n",
    "from qiskit.ignis.verification.tomography import process_tomography_circuits, ProcessTomographyFitter\n",
    "from qiskit.ignis.verification.tomography import gateset_tomography_circuits, GatesetTomographyFitter\n",
    "import qiskit.ignis.mitigation.measurement as mc\n",
    "import qiskit.quantum_info as qi\n",
    "\n",
    "# Generate the state tomography circuits.\n",
    "qst = state_tomography_circuits(rho1, q)\n",
    "\n",
    "# Execute\n",
    "job = qiskit.execute(qst, Aer.get_backend('qasm_simulator'), shots=50000)\n",
    "\n",
    "# Fit result\n",
    "qst_fit = StateTomographyFitter(job.result(), qst)\n",
    "qst_fit_fitted = qst_fit.fit(method='lstsq')"
   ]
  },
  {
   "cell_type": "code",
   "execution_count": 14,
   "id": "11b88922",
   "metadata": {},
   "outputs": [
    {
     "name": "stdout",
     "output_type": "stream",
     "text": [
      "State Fidelity: F = 0.99950\n"
     ]
    }
   ],
   "source": [
    "F_bell = qi.state_fidelity(qst_fit_fitted, Statevector.from_instruction(rho1))\n",
    "print('State Fidelity: F = {:.5f}'.format(F_bell))"
   ]
  },
  {
   "cell_type": "code",
   "execution_count": 15,
   "id": "a901823e",
   "metadata": {},
   "outputs": [],
   "source": [
    "from qiskit.quantum_info.operators import Operator, Pauli\n",
    "circ = QuantumCircuit(2)\n",
    "circ.z(0)\n",
    "\n",
    "# Convert circuit to an operator by implicit unitary simulation\n",
    "H2 = Operator(circ).data\n",
    "\n",
    "circ = QuantumCircuit(2)\n",
    "circ.z(1)\n",
    "\n",
    "# Convert circuit to an operator by implicit unitary simulation\n",
    "H3 = Operator(circ).data\n",
    "\n",
    "\n",
    "circ = QuantumCircuit(2)\n",
    "circ.x(0)\n",
    "H4 = Operator(circ).data\n",
    "\n",
    "\n",
    "circ = QuantumCircuit(2)\n",
    "circ.x(1)\n",
    "H5 = Operator(circ).data"
   ]
  },
  {
   "cell_type": "code",
   "execution_count": 16,
   "id": "599c7eb5",
   "metadata": {},
   "outputs": [
    {
     "name": "stderr",
     "output_type": "stream",
     "text": [
      "/home/keisuke/miniconda3/envs/qiskit/lib/python3.9/site-packages/qiskit/quantum_info/operators/symplectic/pauli.py:187: DeprecationWarning: Initializing Pauli from `Pauli(label=l)` kwarg is deprecated as of version 0.17.0 and will be removed no earlier than 3 months after the release date. Use `Pauli(l)` instead.\n",
      "  base_z, base_x, base_phase = self._from_label_deprecated(label)\n"
     ]
    }
   ],
   "source": [
    "from qiskit.quantum_info.operators import Operator, Pauli\n",
    "import scipy\n",
    "H0 = Operator(Pauli(label='ZZ')).data\n",
    "H1 = Operator(Pauli(label='XX')).data\n",
    "\n",
    "# gibbs_1 = scipy.linalg.expm(-(-0.5*H2 -0.5 *H3 + 0.3*H4 +0.3*H5 + 1*H1))\n",
    "gibbs_1 = scipy.linalg.expm(-(0.5*H4 + 0.5*H5 + 1*H1 - 0.3*H2 - 0.3*H3 ))\n",
    "\n",
    "\n",
    "# gibbs_1 = scipy.linalg.expm(-2*H1)\n",
    "gibbs_1 /= np.trace(gibbs_1)\n",
    "# gibbs_1 = np.round(gibbs_1,2)\n"
   ]
  },
  {
   "cell_type": "code",
   "execution_count": 60,
   "id": "d7880be3",
   "metadata": {},
   "outputs": [],
   "source": [
    "from functions import utils_\n",
    "from importlib import reload\n",
    "reload(utils_)\n",
    "\n",
    "ham_dict = {}\n",
    "ham_dict['ham'] = ['xx','x','x','z','z']\n",
    "ham_dict['pos'] = [[0,1],[0],[1],[0],[1]]\n",
    "ham_dict['c'] = [1,0.5,0.5,-0.3,-0.3]"
   ]
  },
  {
   "cell_type": "code",
   "execution_count": 68,
   "id": "add685e1",
   "metadata": {},
   "outputs": [],
   "source": [
    "VQS_ = utils_.VQS(4)"
   ]
  },
  {
   "cell_type": "code",
   "execution_count": 69,
   "id": "3d4bbaaa",
   "metadata": {},
   "outputs": [],
   "source": [
    "VQS_.set_ham(ham_dict)"
   ]
  },
  {
   "cell_type": "code",
   "execution_count": 70,
   "id": "692bfc68",
   "metadata": {},
   "outputs": [
    {
     "name": "stdout",
     "output_type": "stream",
     "text": [
      "Statevector([0.5+0.j, 0. +0.j, 0. +0.j, 0. +0.j, 0. +0.j, 0.5+0.j, 0. +0.j,\n",
      "             0. +0.j, 0. +0.j, 0. +0.j, 0.5+0.j, 0. +0.j, 0. +0.j, 0. +0.j,\n",
      "             0. +0.j, 0.5+0.j],\n",
      "            dims=(2, 2, 2, 2))\n"
     ]
    }
   ],
   "source": [
    "theta = np.zeros(VQS_.n_params)\n",
    "params = {VQS_.P[i] : theta[i] for i in range(VQS_.n_params)}\n",
    "rho1 = VQS_.state().bind_parameters(params)\n",
    "out = Statevector.from_instruction(rho1)\n",
    "out"
   ]
  },
  {
   "cell_type": "code",
   "execution_count": 71,
   "id": "87293821",
   "metadata": {},
   "outputs": [],
   "source": [
    "theta = np.zeros(4)\n",
    "estimator = utils_.estimate_params(        \n",
    "        VQS_.V,\n",
    "        VQS_.pos_est,\n",
    "        VQS_.gs,\n",
    "        VQS_.g_pos,\n",
    "        ham_dict = VQS_.ham_dict,\n",
    "        n = VQS_.n_params)"
   ]
  },
  {
   "cell_type": "code",
   "execution_count": 72,
   "id": "7ccfa769",
   "metadata": {},
   "outputs": [
    {
     "data": {
      "text/plain": [
       "[[0, 1, 2], [0, 1], [0, 2], [0, 1], [0, 2]]"
      ]
     },
     "execution_count": 72,
     "metadata": {},
     "output_type": "execute_result"
    }
   ],
   "source": [
    "VQS_.ham_dict['pos']"
   ]
  },
  {
   "cell_type": "code",
   "execution_count": 73,
   "id": "83cf056f",
   "metadata": {},
   "outputs": [],
   "source": [
    "N_ = [30]"
   ]
  },
  {
   "cell_type": "code",
   "execution_count": 74,
   "id": "dde0ac04",
   "metadata": {},
   "outputs": [
    {
     "name": "stdout",
     "output_type": "stream",
     "text": [
      "i = 0 N=0.017: F = 0.82085\n",
      "i = 1 N=0.033: F = 0.83671\n",
      "i = 2 N=0.05: F = 0.85045\n",
      "i = 3 N=0.067: F = 0.86527\n",
      "i = 4 N=0.083: F = 0.87832\n",
      "i = 5 N=0.1: F = 0.89024\n",
      "i = 6 N=0.117: F = 0.90239\n",
      "i = 7 N=0.133: F = 0.91304\n",
      "i = 8 N=0.15: F = 0.92325\n",
      "i = 9 N=0.167: F = 0.93185\n",
      "i = 10 N=0.183: F = 0.93992\n",
      "i = 11 N=0.2: F = 0.94791\n",
      "i = 12 N=0.217: F = 0.95477\n",
      "i = 13 N=0.233: F = 0.96108\n",
      "i = 14 N=0.25: F = 0.96700\n",
      "i = 15 N=0.267: F = 0.97164\n",
      "i = 16 N=0.283: F = 0.97586\n",
      "i = 17 N=0.3: F = 0.97971\n",
      "i = 18 N=0.317: F = 0.98318\n",
      "i = 19 N=0.333: F = 0.98639\n",
      "i = 20 N=0.35: F = 0.98881\n",
      "i = 21 N=0.367: F = 0.99119\n",
      "i = 22 N=0.383: F = 0.99315\n",
      "i = 23 N=0.4: F = 0.99481\n",
      "i = 24 N=0.417: F = 0.99602\n",
      "i = 25 N=0.433: F = 0.99715\n",
      "i = 26 N=0.45: F = 0.99788\n",
      "i = 27 N=0.467: F = 0.99840\n",
      "i = 28 N=0.483: F = 0.99880\n",
      "i = 29 N=0.5: F = 0.99892\n"
     ]
    }
   ],
   "source": [
    "from qiskit.quantum_info import Statevector, partial_trace, DensityMatrix\n",
    "tau = 0\n",
    "fid_list = []\n",
    "rho_list = []\n",
    "for N in N_:\n",
    "    delta = (1/2)/N\n",
    "\n",
    "    theta = np.zeros(VQS_.n_params)\n",
    "    i = 0\n",
    "    while True:\n",
    "        params = {VQS_.P[i] : theta[i] for i in range(VQS_.n_params)}\n",
    "        estimator.params = params\n",
    "        A,C = estimator.estimate_AC(NUM = 10**3)\n",
    "        clf = Ridge(fit_intercept=False, alpha=0)\n",
    "        clf.fit(A, C)\n",
    "#         clf = LinearRegression().fit(A, C)\n",
    "        theta += clf.coef_ * delta\n",
    "        tau += delta\n",
    "        gibbs_1_density = DensityMatrix(gibbs_1)\n",
    "\n",
    "        \n",
    "        params = {VQS_.P[i] : theta[i] for i in range(VQS_.n_params)}\n",
    "        rho1 = VQS_.state().bind_parameters(params)\n",
    "        out = Statevector.from_instruction(rho1)\n",
    "        rho1_ = partial_trace(out,[2,3])\n",
    "\n",
    "        Fidelity = qi.state_fidelity(rho1_, gibbs_1_density)\n",
    "        fid_list.append(Fidelity)\n",
    "        rho_list.append(rho1)\n",
    "        \n",
    "        print('i = {} N={}: F = {:.5f}'.format(i, round(tau,3), Fidelity))\n",
    "        \n",
    "        if round(tau,3) >= 1/2:\n",
    "            break\n",
    "        i += 1\n"
   ]
  },
  {
   "cell_type": "code",
   "execution_count": 378,
   "id": "4ea16f09",
   "metadata": {},
   "outputs": [
    {
     "data": {
      "text/plain": [
       "<qiskit.circuit.instructionset.InstructionSet at 0x7f58f5ae6610>"
      ]
     },
     "execution_count": 378,
     "metadata": {},
     "output_type": "execute_result"
    }
   ],
   "source": [
    "rho1.ry(-np.pi/2,0)\n",
    "rho1.ry(-np.pi/2,1)\n",
    "rho1.ry(-np.pi/2,2)\n",
    "rho1.ry(-np.pi/2,3)"
   ]
  },
  {
   "cell_type": "code",
   "execution_count": 399,
   "id": "50571c63",
   "metadata": {},
   "outputs": [],
   "source": [
    "out = Statevector.from_instruction(rho1)\n",
    "rho1_ = partial_trace(out,[2,3])\n",
    "\n",
    "\n",
    "H0 = Operator(Pauli(label='ZZ')).data\n",
    "H1 = Operator(Pauli(label='XX')).data\n",
    "\n",
    "\n",
    "gibbs_2 = scipy.linalg.expm(-(0.5*H2 + 0.5 *H3 + 1*H0 + 0.3*H4 + 0.3*H5))\n",
    "gibbs_2 /= np.trace(gibbs_2)\n",
    "\n",
    "\n",
    "\n",
    "gibbs_2_density = DensityMatrix(gibbs_2)\n",
    "Fidelity = qi.state_fidelity(rho1_, gibbs_2_density)"
   ]
  },
  {
   "cell_type": "code",
   "execution_count": 386,
   "id": "ca7709d1",
   "metadata": {},
   "outputs": [
    {
     "data": {
      "text/plain": [
       "0.9990109886986331"
      ]
     },
     "execution_count": 386,
     "metadata": {},
     "output_type": "execute_result"
    }
   ],
   "source": [
    "Fidelity"
   ]
  },
  {
   "cell_type": "code",
   "execution_count": 354,
   "id": "b3829180",
   "metadata": {},
   "outputs": [
    {
     "data": {
      "text/plain": [
       "array([ 1.+0.j,  1.+0.j, -1.+0.j, -1.+0.j])"
      ]
     },
     "execution_count": 354,
     "metadata": {},
     "output_type": "execute_result"
    }
   ],
   "source": [
    "circ = QuantumCircuit(2)\n",
    "# circ.ry(-np.pi/2,0)\n",
    "# circ.ry(-np.pi/2,1)\n",
    "# circ.x(1)\n",
    "# circ.ry(np.pi/2,0)\n",
    "# circ.ry(np.pi/2,1)\n",
    "circ.z(1)\n",
    "np.diag(Operator(circ).data)\n"
   ]
  },
  {
   "cell_type": "code",
   "execution_count": null,
   "id": "4f1ba27f",
   "metadata": {},
   "outputs": [],
   "source": []
  },
  {
   "cell_type": "code",
   "execution_count": null,
   "id": "073e0263",
   "metadata": {},
   "outputs": [],
   "source": []
  },
  {
   "cell_type": "code",
   "execution_count": 61,
   "id": "2d6161e8",
   "metadata": {},
   "outputs": [
    {
     "data": {
      "text/plain": [
       "array([0.0013833 +0.j, 0.28894601+0.j, 0.69841512+0.j, 0.01125556+0.j])"
      ]
     },
     "execution_count": 61,
     "metadata": {},
     "output_type": "execute_result"
    }
   ],
   "source": [
    "np.diag(rho1_)"
   ]
  },
  {
   "cell_type": "code",
   "execution_count": 510,
   "id": "9b0b734a",
   "metadata": {},
   "outputs": [
    {
     "data": {
      "text/plain": [
       "array([0.00483724+0.j, 0.01314897-0.j, 0.26410418+0.j, 0.71790961+0.j])"
      ]
     },
     "execution_count": 510,
     "metadata": {},
     "output_type": "execute_result"
    }
   ],
   "source": [
    "np.diag(gibbs_1_density)"
   ]
  },
  {
   "cell_type": "code",
   "execution_count": 64,
   "id": "e4403b43",
   "metadata": {},
   "outputs": [
    {
     "data": {
      "text/plain": [
       "array([0.0013833 +0.j, 0.28894601+0.j, 0.69841512+0.j, 0.01125556+0.j])"
      ]
     },
     "execution_count": 64,
     "metadata": {},
     "output_type": "execute_result"
    }
   ],
   "source": [
    "np.diag(rho1_.data)"
   ]
  },
  {
   "cell_type": "code",
   "execution_count": 126,
   "id": "8817f0c9",
   "metadata": {},
   "outputs": [
    {
     "data": {
      "text/plain": [
       "array([-0.17629688, -0.17629688, -0.17629688, -0.17629688])"
      ]
     },
     "execution_count": 126,
     "metadata": {},
     "output_type": "execute_result"
    }
   ],
   "source": [
    "clf.coef_ @ A   - C"
   ]
  },
  {
   "cell_type": "code",
   "execution_count": 122,
   "id": "f2c1ba90",
   "metadata": {},
   "outputs": [
    {
     "data": {
      "text/plain": [
       "array([ 0.00000000e+00,  3.60822483e-15,  2.88657986e-15, -2.28354662e-15])"
      ]
     },
     "execution_count": 122,
     "metadata": {},
     "output_type": "execute_result"
    }
   ],
   "source": [
    "A @ np.linalg.inv(A) @ C - C"
   ]
  },
  {
   "cell_type": "code",
   "execution_count": 70,
   "id": "a728ce4c",
   "metadata": {},
   "outputs": [
    {
     "name": "stdout",
     "output_type": "stream",
     "text": [
      "i = 2 N=200: F = 0.37524\n",
      "DensityMatrix([[0.25+0.j, 0.  +0.j, 0.  +0.j, 0.  +0.j],\n",
      "               [0.  +0.j, 0.25+0.j, 0.  +0.j, 0.  +0.j],\n",
      "               [0.  +0.j, 0.  +0.j, 0.25+0.j, 0.  +0.j],\n",
      "               [0.  +0.j, 0.  +0.j, 0.  +0.j, 0.25+0.j]],\n",
      "              dims=(2, 2))\n"
     ]
    }
   ],
   "source": [
    "\n",
    "theta = np.zeros(VQS_.n_params)\n",
    "params = {VQS_.P[i] : theta[i] for i in range(VQS_.n_params)}\n",
    "rho1 = VQS_.state().bind_parameters(params)\n",
    "out = Statevector.from_instruction(rho1)\n",
    "rho1_ = partial_trace(out,[2,3])\n",
    "\n",
    "Fidelity = qi.state_fidelity(rho1_, gibbs_1_density)\n",
    "fid_list.append(Fidelity)\n",
    "rho_list.append(rho1)\n",
    "print('i = {} N={}: F = {:.5f}'.format(i, N, Fidelity))\n",
    "print(rho1_)\n",
    "i += 1"
   ]
  },
  {
   "cell_type": "code",
   "execution_count": 71,
   "id": "1cb470e4",
   "metadata": {},
   "outputs": [
    {
     "name": "stdout",
     "output_type": "stream",
     "text": [
      "Statevector([0.5+0.j, 0. +0.j, 0. +0.j, 0. +0.j, 0. +0.j, 0.5+0.j, 0. +0.j,\n",
      "             0. +0.j, 0. +0.j, 0. +0.j, 0.5+0.j, 0. +0.j, 0. +0.j, 0. +0.j,\n",
      "             0. +0.j, 0.5+0.j],\n",
      "            dims=(2, 2, 2, 2))\n"
     ]
    }
   ],
   "source": [
    "out"
   ]
  },
  {
   "cell_type": "code",
   "execution_count": 189,
   "id": "e6622614",
   "metadata": {},
   "outputs": [
    {
     "name": "stdout",
     "output_type": "stream",
     "text": [
      "State Fidelity: F = 0.99959\n"
     ]
    }
   ],
   "source": [
    "Fidelity = qi.state_fidelity(rho1, gibbs_1_density)\n",
    "print('State Fidelity: F = {:.5f}'.format(Fidelity))"
   ]
  },
  {
   "cell_type": "code",
   "execution_count": 49,
   "id": "f228e458",
   "metadata": {},
   "outputs": [
    {
     "data": {
      "text/plain": [
       "Ridge(alpha=0.01)"
      ]
     },
     "execution_count": 49,
     "metadata": {},
     "output_type": "execute_result"
    }
   ],
   "source": [
    "from sklearn.linear_model import Ridge\n",
    "import numpy as np\n",
    "y = C\n",
    "X = A\n"
   ]
  },
  {
   "cell_type": "code",
   "execution_count": 50,
   "id": "000976b2",
   "metadata": {},
   "outputs": [
    {
     "data": {
      "text/plain": [
       "array([[-0.00511299],\n",
       "       [ 0.00635906],\n",
       "       [ 0.00135994],\n",
       "       [ 0.00443207]])"
      ]
     },
     "execution_count": 50,
     "metadata": {},
     "output_type": "execute_result"
    }
   ],
   "source": [
    "A @ clf.coef_.reshape(-1,1) - C.reshape(-1,1)"
   ]
  },
  {
   "cell_type": "code",
   "execution_count": 330,
   "id": "e045af9d",
   "metadata": {},
   "outputs": [
    {
     "data": {
      "text/plain": [
       "<qiskit.circuit.instructionset.InstructionSet at 0x7f06ca45b2e0>"
      ]
     },
     "execution_count": 330,
     "metadata": {},
     "output_type": "execute_result"
    }
   ],
   "source": [
    "q = QuantumRegister(3)\n",
    "generators_qargs_ = [[q[0],q[1]],[q[0],q[2]],[q[0],q[1]],[q[0],q[2]]]\n",
    "gates_qargs_ = [[q[1]],[q[1],q[2]],[q[1]],[q[1],q[2]]]\n",
    "\n",
    "generators_qargs = [[0,1],[0,2],[0,1],[0,2]]\n",
    "gates_qargs = [[1],[1,2],[1],[1,2]]\n",
    "\n",
    "\n",
    "c = ClassicalRegister(1)\n",
    "A = QuantumCircuit(q,c, name='Fisher')\n",
    "A.h(0)\n",
    "A.draw('mpl')\n",
    "l = 2\n",
    "j = 3\n",
    "der_pos = [l, j]\n",
    "\n",
    "for i in range(N):\n",
    "    if i in der_pos:\n",
    "        A.x(0)\n",
    "        A.append(generators[i].to_instruction(), generators_qargs_[i])\n",
    "    A.append(gates[i].to_instruction(),gates_qargs_[i])\n",
    "A.h(0)\n",
    "A.measure(0, 0)"
   ]
  },
  {
   "cell_type": "code",
   "execution_count": 331,
   "id": "035742ce",
   "metadata": {},
   "outputs": [],
   "source": [
    "# theta = np.random.rand(4) * np.pi\n",
    "A = A.bind_parameters({a1: theta[0], a2 : theta[1], a3 : theta[2], a4 : theta[3]})"
   ]
  },
  {
   "cell_type": "code",
   "execution_count": 332,
   "id": "81bcc1dc",
   "metadata": {},
   "outputs": [
    {
     "data": {
      "image/png": "[encoded data removed]",
      "text/plain": [
       "<Figure size 815.009x264.88 with 1 Axes>"
      ]
     },
     "execution_count": 332,
     "metadata": {},
     "output_type": "execute_result"
    }
   ],
   "source": [
    "A.draw('mpl')"
   ]
  },
  {
   "cell_type": "code",
   "execution_count": 333,
   "id": "26c52585",
   "metadata": {},
   "outputs": [],
   "source": [
    "A_results = []\n",
    "NUM = 20000\n",
    "for _ in range(10):\n",
    "    \n",
    "    backend = BasicAer.get_backend('qasm_simulator')\n",
    "    result = execute(A, backend, shots=NUM).result()\n",
    "    counts  = result.get_counts(A)\n",
    "    A_results.append((counts['0']/NUM)*2 -1)"
   ]
  },
  {
   "cell_type": "code",
   "execution_count": 289,
   "id": "db48c0f9",
   "metadata": {},
   "outputs": [],
   "source": [
    "for i in range(0):\n",
    "    print(i)"
   ]
  },
  {
   "cell_type": "code",
   "execution_count": 334,
   "id": "ad82e385",
   "metadata": {},
   "outputs": [
    {
     "data": {
      "text/plain": [
       "-0.4933199999999999"
      ]
     },
     "execution_count": 334,
     "metadata": {},
     "output_type": "execute_result"
    }
   ],
   "source": [
    "np.mean(A_results)"
   ]
  },
  {
   "cell_type": "markdown",
   "id": "226e8ee4",
   "metadata": {},
   "source": [
    "## Calculate exact fisher information"
   ]
  },
  {
   "cell_type": "code",
   "execution_count": 504,
   "id": "4d6944de",
   "metadata": {},
   "outputs": [],
   "source": [
    "l, j = [0,2]\n",
    "q = QuantumRegister(2)\n",
    "gates = [V1, V2, V3, V4]\n",
    "gates_qargs = [[q[0]],[q[0],q[1]],[q[0]],[q[0],q[1]]]\n",
    "N = len(gates)\n",
    "g = QuantumCircuit(1, name='g')\n",
    "g.y(0)\n",
    "generators = [g,g,g,g]\n",
    "generators_qargs = [[q[0]],[q[1]],[q[0]],[q[1]]]"
   ]
  },
  {
   "cell_type": "code",
   "execution_count": 505,
   "id": "732f7355",
   "metadata": {},
   "outputs": [
    {
     "name": "stdout",
     "output_type": "stream",
     "text": [
      "l = 0, j = 2, A_lj = 1.849055158986701e-09\n"
     ]
    }
   ],
   "source": [
    "V_l = QuantumCircuit(q, name='V_l')\n",
    "V_j = QuantumCircuit(q, name='V_j')\n",
    "\n",
    "for i in range(N):\n",
    "    if i == l:\n",
    "        V_l.append(generators[i], generators_qargs[i])\n",
    "    V_l.append(gates[i],gates_qargs[i])\n",
    "    \n",
    "for i in range(N):\n",
    "    if i == j:\n",
    "        V_j.append(generators[i], generators_qargs[i])\n",
    "    V_j.append(gates[i],gates_qargs[i])\n",
    "\n",
    "V_l = V_l.bind_parameters({a1: theta[0], a2 : theta[1], a3 : theta[2], a4 : theta[3]})\n",
    "V_j = V_j.bind_parameters({a1: theta[0], a2 : theta[1], a3 : theta[2], a4 : theta[3]})\n",
    "\n",
    "backend = BasicAer.get_backend('unitary_simulator')\n",
    "job = execute(V_l, backend)\n",
    "V_l_array = job.result().get_unitary(V_l, decimals=8)\n",
    "\n",
    "\n",
    "job = execute(V_j, backend)\n",
    "V_j_array = job.result().get_unitary(V_j, decimals=8)\n",
    "\n",
    "print('l = {}, j = {}, A_lj = {}'.format(l,j,(np.conjugate(V_j_array.transpose()) @ V_l_array)[0,0].real))"
   ]
  },
  {
   "cell_type": "code",
   "execution_count": 506,
   "id": "97496dac",
   "metadata": {},
   "outputs": [],
   "source": [
    "V = QuantumCircuit(q, name='V')\n",
    "\n",
    "for i in range(N):\n",
    "\n",
    "    V.append(gates[i],gates_qargs[i])\n",
    "    \n",
    "\n",
    "\n",
    "V = V.bind_parameters({a1: theta[0], a2 : theta[1], a3 : theta[2], a4 : theta[3]})\n",
    "\n",
    "backend = BasicAer.get_backend('unitary_simulator')\n",
    "job = execute(V, backend)\n",
    "V_array = job.result().get_unitary(V, decimals=8)\n",
    "\n",
    "H = QuantumCircuit(q, name='H')\n",
    "H.z(0)\n",
    "backend = BasicAer.get_backend('unitary_simulator')\n",
    "job = execute(H, backend)\n",
    "H_array = job.result().get_unitary(H, decimals=8)"
   ]
  },
  {
   "cell_type": "code",
   "execution_count": 507,
   "id": "cc927736",
   "metadata": {},
   "outputs": [
    {
     "data": {
      "text/plain": [
       "array([[ 1.+0.j,  0.+0.j,  0.+0.j,  0.+0.j],\n",
       "       [ 0.+0.j, -1.+0.j,  0.+0.j,  0.+0.j],\n",
       "       [ 0.+0.j,  0.+0.j,  1.+0.j,  0.+0.j],\n",
       "       [ 0.+0.j,  0.+0.j,  0.+0.j, -1.+0.j]])"
      ]
     },
     "execution_count": 507,
     "metadata": {},
     "output_type": "execute_result"
    }
   ],
   "source": [
    "H_array"
   ]
  },
  {
   "cell_type": "code",
   "execution_count": 508,
   "id": "545eb9c4",
   "metadata": {},
   "outputs": [
    {
     "data": {
      "text/plain": [
       "-0.2766919211306063"
      ]
     },
     "execution_count": 508,
     "metadata": {},
     "output_type": "execute_result"
    }
   ],
   "source": [
    "((V_l_array.conj().T @ H_array @ V_array)[0,0] * (-1j)).real"
   ]
  },
  {
   "cell_type": "code",
   "execution_count": 405,
   "id": "0ad54caa",
   "metadata": {},
   "outputs": [
    {
     "data": {
      "text/plain": [
       "3"
      ]
     },
     "execution_count": 405,
     "metadata": {},
     "output_type": "execute_result"
    }
   ],
   "source": [
    "jcirc = QuantumCircuit(2)\n",
    "circ.x(1)"
   ]
  }
 ],
 "metadata": {
  "kernelspec": {
   "display_name": "Python 3",
   "language": "python",
   "name": "python3"
  },
  "language_info": {
   "codemirror_mode": {
    "name": "ipython",
    "version": 3
   },
   "file_extension": ".py",
   "mimetype": "text/x-python",
   "name": "python",
   "nbconvert_exporter": "python",
   "pygments_lexer": "ipython3",
   "version": "3.9.4"
  }
 },
 "nbformat": 4,
 "nbformat_minor": 5
}
