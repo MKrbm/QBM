{
 "cells": [
  {
   "cell_type": "code",
   "execution_count": 1,
   "id": "89b8243d",
   "metadata": {},
   "outputs": [],
   "source": [
    "import numpy as np\n",
    "from qiskit import *\n",
    "from qiskit.circuit import Parameter\n",
    "from qiskit.quantum_info import Statevector, partial_trace, DensityMatrix\n",
    "\n",
    "from sklearn.linear_model import Ridge, LinearRegression\n",
    "import numpy as np"
   ]
  },
  {
   "cell_type": "code",
   "execution_count": 2,
   "id": "65ffe6fe",
   "metadata": {},
   "outputs": [],
   "source": [
    "theta_range = np.tile(np.linspace(0,np.pi,10),(5,1)).transpose()"
   ]
  },
  {
   "cell_type": "code",
   "execution_count": 6,
   "id": "117ab3fe",
   "metadata": {},
   "outputs": [],
   "source": [
    "# job = execute(rho,\n",
    "#               backend=BasicAer.get_backend('statevector_simulator'),\n",
    "#               parameter_binds=[{a1: theta[0], a2 : theta[1], a3 : theta[2], a4 : theta[3]} for theta in theta_range])\n"
   ]
  },
  {
   "cell_type": "code",
   "execution_count": 7,
   "id": "ba9fcf8e",
   "metadata": {
    "scrolled": true
   },
   "outputs": [],
   "source": [
    "# backend = BasicAer.get_backend('statevector_simulator')\n",
    "# job = execute(rho, backend)\n",
    "# qc_state = job.result().get_statevector(rho)\n",
    "# qc_state"
   ]
  },
  {
   "cell_type": "code",
   "execution_count": 8,
   "id": "55237721",
   "metadata": {},
   "outputs": [],
   "source": [
    "# from qiskit.quantum_info import Statevector, partial_trace\n",
    "\n",
    "# out = Statevector.from_instruction(rho)\n",
    "# partial_trace(out,[1])"
   ]
  },
  {
   "cell_type": "code",
   "execution_count": 9,
   "id": "34a60c36",
   "metadata": {
    "scrolled": true
   },
   "outputs": [],
   "source": [
    "# partial_trace(out,[1])"
   ]
  },
  {
   "cell_type": "code",
   "execution_count": 11,
   "id": "fa09f1f0",
   "metadata": {},
   "outputs": [],
   "source": [
    "# theta = np.random.rand(4)\n",
    "# rho1 = rho.bind_parameters({a1: theta[0], a2 : theta[1], a3 : theta[2], a4 : theta[3]})\n",
    "# rho1.measure_all()\n",
    "# simulator = Aer.get_backend('aer_simulator')\n",
    "# circ = transpile(rho1, simulator)\n",
    "# result = simulator.run(circ).result()\n",
    "# counts = result.get_counts(circ)"
   ]
  },
  {
   "cell_type": "code",
   "execution_count": 12,
   "id": "7c383c20",
   "metadata": {},
   "outputs": [
    {
     "data": {
      "text/plain": [
       "[]"
      ]
     },
     "execution_count": 12,
     "metadata": {},
     "output_type": "execute_result"
    }
   ],
   "source": [
    "IBMQ.providers()"
   ]
  },
  {
   "cell_type": "code",
   "execution_count": 14,
   "id": "b7add9a3",
   "metadata": {},
   "outputs": [
    {
     "name": "stderr",
     "output_type": "stream",
     "text": [
      "ibmqfactory.load_account:WARNING:2021-06-08 13:30:39,085: Credentials are already in use. The existing account in the session will be replaced.\n"
     ]
    }
   ],
   "source": [
    "import numpy as np\n",
    "from qiskit import *\n",
    "from qiskit.circuit import Parameter\n",
    "import qiskit.quantum_info as qi\n",
    "from qiskit import IBMQ\n",
    "from IBM_Q import API_IBM\n",
    "\n",
    "\n",
    "\n",
    "IBMQ.load_account() # Load account from disk\n",
    "IBMQ.providers()    # List all available providers\n",
    "\n",
    "provider = IBMQ.get_provider(hub='ibm-q')\n",
    "backend = provider.get_backend('ibmq_manila')\n",
    "\n",
    "from qiskit.compiler import transpile, assemble\n",
    "\n"
   ]
  },
  {
   "cell_type": "code",
   "execution_count": 15,
   "id": "c50f4ef4",
   "metadata": {},
   "outputs": [],
   "source": [
    "# shots = 10000\n",
    "# sim_statevector = Aer.get_backend('aer_simulator_statevector')\n",
    "# job_statevector = sim_statevector.run(circ, shots=shots)\n",
    "# counts_statevector = job_statevector.result().get_counts()"
   ]
  },
  {
   "cell_type": "code",
   "execution_count": 16,
   "id": "4f8809fd",
   "metadata": {},
   "outputs": [],
   "source": [
    "\n",
    "\n",
    "# # Transpile for simulator\n",
    "# simulator = Aer.get_backend('aer_simulator')\n",
    "# circ = transpile(circ, simulator)\n",
    "\n",
    "# # Run and get counts\n",
    "# result = simulator.run(circ).result()\n",
    "# counts = result.get_counts(circ)\n",
    "# counts"
   ]
  },
  {
   "cell_type": "code",
   "execution_count": 17,
   "id": "5837b563",
   "metadata": {},
   "outputs": [],
   "source": [
    "# from qiskit.ignis.verification.tomography import state_tomography_circuits, StateTomographyFitter\n",
    "# from qiskit.ignis.verification.tomography import process_tomography_circuits, ProcessTomographyFitter\n",
    "# from qiskit.ignis.verification.tomography import gateset_tomography_circuits, GatesetTomographyFitter\n",
    "# import qiskit.ignis.mitigation.measurement as mc\n",
    "# import qiskit.quantum_info as qi\n",
    "\n",
    "# # Generate the state tomography circuits.\n",
    "# qst = state_tomography_circuits(rho1, q)\n",
    "\n",
    "# # Execute\n",
    "# job = qiskit.execute(qst, Aer.get_backend('qasm_simulator'), shots=50000)\n",
    "\n",
    "# # Fit result\n",
    "# qst_fit = StateTomographyFitter(job.result(), qst)\n",
    "# qst_fit_fitted = qst_fit.fit(method='lstsq')"
   ]
  },
  {
   "cell_type": "code",
   "execution_count": 14,
   "id": "11b88922",
   "metadata": {},
   "outputs": [
    {
     "name": "stdout",
     "output_type": "stream",
     "text": [
      "State Fidelity: F = 0.99950\n"
     ]
    }
   ],
   "source": [
    "F_bell = qi.state_fidelity(qst_fit_fitted, Statevector.from_instruction(rho1))\n",
    "print('State Fidelity: F = {:.5f}'.format(F_bell))"
   ]
  },
  {
   "cell_type": "code",
   "execution_count": 529,
   "id": "599c7eb5",
   "metadata": {},
   "outputs": [],
   "source": [
    "from qiskit.quantum_info.operators import Operator, Pauli\n",
    "import scipy\n",
    "HZZ = Operator(Pauli(label='ZZ')).data\n",
    "HXX = Operator(Pauli(label='XX')).data\n",
    "\n",
    "# gibbs_1 = scipy.linalg.expm(-(-0.5*H2 -0.5 *H3 + 0.3*H4 +0.3*H5 + 1*H1))\n",
    "\n",
    "# gibbs_1 = np.round(gibbs_1,2)\n"
   ]
  },
  {
   "cell_type": "code",
   "execution_count": 950,
   "id": "d7880be3",
   "metadata": {},
   "outputs": [],
   "source": [
    "from functions import utils_\n",
    "from importlib import reload\n",
    "reload(utils_)\n",
    "\n",
    "ham_dict = {}\n",
    "ham_dict['ham'] = ['z']\n",
    "ham_dict['pos'] = [[0]]\n",
    "ham_dict['c'] = [3]\n",
    "VQS_ = utils_.VQS(2)\n",
    "VQS_.set_ham(ham_dict)\n",
    "gibbs_1 = scipy.linalg.expm(-(VQS_.return_ham()))\n",
    "\n",
    "\n",
    "# gibbs_1 = scipy.linalg.expm(-2*H1)\n",
    "gibbs_1 /= np.trace(gibbs_1)"
   ]
  },
  {
   "cell_type": "code",
   "execution_count": 951,
   "id": "87293821",
   "metadata": {},
   "outputs": [],
   "source": [
    "estimator = utils_.estimate_params(        \n",
    "        VQS_.V,\n",
    "        VQS_.pos_est,\n",
    "        VQS_.gs,\n",
    "        VQS_.g_pos,\n",
    "        ham_dict = VQS_.ham_dict,\n",
    "        n = VQS_.n_params)"
   ]
  },
  {
   "cell_type": "code",
   "execution_count": 962,
   "id": "dde0ac04",
   "metadata": {
    "scrolled": true
   },
   "outputs": [
    {
     "name": "stdout",
     "output_type": "stream",
     "text": [
      "i = 0 tau=0.01: F = 0.58543\n",
      "i = 1 tau=0.02: F = 0.61694\n",
      "i = 2 tau=0.03: F = 0.64642\n",
      "i = 3 tau=0.04: F = 0.67425\n",
      "i = 4 tau=0.05: F = 0.70039\n",
      "i = 5 tau=0.06: F = 0.72572\n",
      "i = 6 tau=0.07: F = 0.75304\n",
      "i = 7 tau=0.08: F = 0.77501\n",
      "i = 8 tau=0.09: F = 0.79503\n",
      "i = 9 tau=0.1: F = 0.81125\n",
      "i = 10 tau=0.11: F = 0.83069\n",
      "i = 11 tau=0.12: F = 0.84795\n",
      "i = 12 tau=0.13: F = 0.86478\n",
      "i = 13 tau=0.14: F = 0.87737\n",
      "i = 14 tau=0.15: F = 0.89161\n",
      "i = 15 tau=0.16: F = 0.90464\n",
      "i = 16 tau=0.17: F = 0.91628\n",
      "i = 17 tau=0.18: F = 0.92660\n",
      "i = 18 tau=0.19: F = 0.93483\n",
      "i = 19 tau=0.2: F = 0.94368\n",
      "i = 20 tau=0.21: F = 0.95105\n",
      "i = 21 tau=0.22: F = 0.95689\n",
      "i = 22 tau=0.23: F = 0.96267\n",
      "i = 23 tau=0.24: F = 0.96870\n",
      "i = 24 tau=0.25: F = 0.97215\n",
      "i = 25 tau=0.26: F = 0.97619\n",
      "i = 26 tau=0.27: F = 0.97993\n",
      "i = 27 tau=0.28: F = 0.98286\n",
      "i = 28 tau=0.29: F = 0.98547\n",
      "i = 29 tau=0.3: F = 0.98745\n",
      "i = 30 tau=0.31: F = 0.98956\n",
      "i = 31 tau=0.32: F = 0.99272\n",
      "i = 32 tau=0.33: F = 0.99397\n",
      "i = 33 tau=0.34: F = 0.99514\n",
      "i = 34 tau=0.35: F = 0.99625\n",
      "i = 35 tau=0.36: F = 0.99713\n",
      "i = 36 tau=0.37: F = 0.99777\n",
      "i = 37 tau=0.38: F = 0.99828\n",
      "i = 38 tau=0.39: F = 0.99877\n",
      "i = 39 tau=0.4: F = 0.99914\n",
      "i = 40 tau=0.41: F = 0.99935\n",
      "i = 41 tau=0.42: F = 0.99956\n",
      "i = 42 tau=0.43: F = 0.99958\n",
      "i = 43 tau=0.44: F = 0.99971\n",
      "i = 44 tau=0.45: F = 0.99988\n",
      "i = 45 tau=0.46: F = 0.99995\n",
      "i = 46 tau=0.47: F = 0.99997\n",
      "i = 47 tau=0.48: F = 0.99999\n",
      "i = 48 tau=0.49: F = 0.99998\n",
      "i = 49 tau=0.5: F = 0.99995\n"
     ]
    }
   ],
   "source": [
    "from qiskit.quantum_info import Statevector, partial_trace, DensityMatrix\n",
    "est2 = utils_.estimate_params2(VQS_)\n",
    "\n",
    "tau = 0\n",
    "fid_list = []\n",
    "rho_list = []\n",
    "N_ = [50]\n",
    "for N in N_:\n",
    "    delta = (1/2)/N\n",
    "\n",
    "    theta = np.zeros(VQS_.n_params)\n",
    "    i = 0\n",
    "    while True:\n",
    "        params = {VQS_.P[i] : theta[i] for i in range(VQS_.n_params)}\n",
    "\n",
    "        estimator.params = params\n",
    "        A,C = estimator.estimate_AC(NUM = 10**3)\n",
    "        \n",
    "#         est2.params = params\n",
    "#         A, C = est2.estimate_AC(NUM = 10**3)\n",
    "        clf = Ridge(fit_intercept=False, alpha=1e-6)\n",
    "        clf.fit(A, C)\n",
    "#         clf = LinearRegression().fit(A, C)\n",
    "        theta += clf.coef_ * delta\n",
    "        tau += delta\n",
    "        \n",
    "        \n",
    "        \n",
    "#         gibbs_1_density = DensityMatrix(gibbs_1)\n",
    "        gibbs_1 = scipy.linalg.expm(-(VQS_.return_ham(boltzmann=True)))\n",
    "        gibbs_1 /= np.trace(gibbs_1)\n",
    "\n",
    "\n",
    "\n",
    "        gibbs_1_density = DensityMatrix(gibbs_1)\n",
    "\n",
    "        \n",
    "        params = {VQS_.P[i] : theta[i] for i in range(VQS_.n_params)}\n",
    "        rho1 = VQS_.state().bind_parameters(params)\n",
    "        out = Statevector.from_instruction(rho1)\n",
    "        rho1_ = partial_trace(out,[1])\n",
    "\n",
    "        Fidelity = qi.state_fidelity(rho1_, gibbs_1_density)\n",
    "        fid_list.append(Fidelity)\n",
    "        rho_list.append(rho1)\n",
    "        \n",
    "        print('i = {} tau={}: F = {:.5f}'.format(i, round(tau,3), Fidelity))\n",
    "\n",
    "        \n",
    "        \n",
    "        if round(tau,3) >= 1/2:\n",
    "            break\n",
    "        i += 1\n"
   ]
  },
  {
   "cell_type": "code",
   "execution_count": 937,
   "id": "c07f44dc",
   "metadata": {},
   "outputs": [
    {
     "data": {
      "text/plain": [
       "{'1010': 7929,\n",
       " '0101': 1927,\n",
       " '0000': 67,\n",
       " '1111': 48,\n",
       " '1011': 2,\n",
       " '1100': 3,\n",
       " '0110': 15,\n",
       " '0111': 8,\n",
       " '0011': 1}"
      ]
     },
     "execution_count": 937,
     "metadata": {},
     "output_type": "execute_result"
    }
   ],
   "source": [
    "backend = BasicAer.get_backend('qasm_simulator')\n",
    "rho1.measure_all()\n",
    "result = execute(rho1, backend, shots=10**4).result()\n",
    "result.get_counts(rho1)"
   ]
  },
  {
   "cell_type": "code",
   "execution_count": 941,
   "id": "ed7c8337",
   "metadata": {},
   "outputs": [
    {
     "data": {
      "text/plain": [
       "(871.4431874203257+0j)"
      ]
     },
     "execution_count": 941,
     "metadata": {},
     "output_type": "execute_result"
    }
   ],
   "source": [
    "gibbs_1_density.data[3,3] * 10**4"
   ]
  },
  {
   "cell_type": "markdown",
   "id": "e215e691",
   "metadata": {},
   "source": [
    "## rotate return states and measure fidelity"
   ]
  },
  {
   "cell_type": "code",
   "execution_count": 459,
   "id": "50571c63",
   "metadata": {},
   "outputs": [
    {
     "name": "stdout",
     "output_type": "stream",
     "text": [
      "fidelity = 0.9999829765553137\n"
     ]
    }
   ],
   "source": [
    "out = Statevector.from_instruction(rho1)\n",
    "rho1_ = partial_trace(out,[2,3])\n",
    "\n",
    "\n",
    "ham_dict = {}\n",
    "ham_dict['ham'] = ['zz','z','z']\n",
    "ham_dict['pos'] = [[0,1],[1],[0]]\n",
    "ham_dict['c'] = [1,0.5,0.3]\n",
    "VQS2_ = utils_.VQS(4)\n",
    "VQS2_.set_ham(ham_dict)\n",
    "gibbs_2 = scipy.linalg.expm(-(VQS2_.return_ham()))\n",
    "\n",
    "\n",
    "# gibbs_1 = scipy.linalg.expm(-2*H1)\n",
    "gibbs_2 = scipy.linalg.expm(-(VQS2_.return_ham()))\n",
    "gibbs_2 /= np.trace(gibbs_2)\n",
    "\n",
    "\n",
    "\n",
    "gibbs_2_density = DensityMatrix(gibbs_2)\n",
    "Fidelity = qi.state_fidelity(rho1_, gibbs_2_density)\n",
    "print(\"fidelity = {}\".format(Fidelity))"
   ]
  },
  {
   "cell_type": "code",
   "execution_count": 790,
   "id": "ca7709d1",
   "metadata": {},
   "outputs": [],
   "source": [
    "reload(utils_)\n",
    "VQS_ = utils_.VQS(4)\n",
    "VQS_.set_ham(ham_dict)\n",
    "params = {VQS_.P[i] : theta[i] for i in range(VQS_.n_params)}\n",
    "est2 = utils_.estimate_params2(VQS_, params)\n",
    "C, counts, state = est2.estimate_C(2*10**4)"
   ]
  },
  {
   "cell_type": "code",
   "execution_count": 791,
   "id": "0a9611ae",
   "metadata": {
    "scrolled": true
   },
   "outputs": [],
   "source": [
    "# _, result = est2.estimate_A(der_pos = 2, NUM = 10**4)\n",
    "# states = []\n",
    "# counts = []\n",
    "\n",
    "\n",
    "# val = np.zeros((len(ham_dict['ham']), len(result)))\n",
    "\n",
    "\n",
    "# for n, (key, item) in enumerate(result.items()):\n",
    "\n",
    "#     state_array = np.zeros(len(key), np.int8)\n",
    "#     for i,j in enumerate(key):\n",
    "#         state_array[-(i+1)] = -((int(j) * 2) - 1)\n",
    "#     states.append(state_array)\n",
    "#     counts.append(item)\n",
    "#     for m, pos in enumerate(ham_dict['pos']):\n",
    "        \n",
    "#         pos_ = [0] + [i+1 for i in pos]\n",
    "#         val[m,n] = state_array[pos_].prod()\n",
    "        \n",
    "# counts = np.array(counts)"
   ]
  },
  {
   "cell_type": "code",
   "execution_count": 799,
   "id": "5bd2aaa6",
   "metadata": {},
   "outputs": [],
   "source": [
    "\n"
   ]
  },
  {
   "cell_type": "code",
   "execution_count": 798,
   "id": "dbfa997f",
   "metadata": {},
   "outputs": [],
   "source": [
    "# estimator.estimate_AC(NUM = 10**4)"
   ]
  },
  {
   "cell_type": "code",
   "execution_count": 774,
   "id": "5c7edb16",
   "metadata": {
    "scrolled": true
   },
   "outputs": [
    {
     "data": {
      "text/plain": [
       "array([ 1., -1., -1.,  1., -1.,  1., -1.,  1.,  1.])"
      ]
     },
     "execution_count": 774,
     "metadata": {},
     "output_type": "execute_result"
    }
   ],
   "source": [
    "val[0]"
   ]
  },
  {
   "cell_type": "code",
   "execution_count": 775,
   "id": "e49cc0a1",
   "metadata": {},
   "outputs": [
    {
     "data": {
      "text/plain": [
       "{'10100': 1685,\n",
       " '10101': 905,\n",
       " '01010': 2606,\n",
       " '11111': 2174,\n",
       " '00001': 1692,\n",
       " '00000': 688,\n",
       " '11110': 170,\n",
       " '01011': 79,\n",
       " '11011': 1}"
      ]
     },
     "execution_count": 775,
     "metadata": {},
     "output_type": "execute_result"
    }
   ],
   "source": [
    "result"
   ]
  },
  {
   "cell_type": "code",
   "execution_count": 625,
   "id": "630e7796",
   "metadata": {},
   "outputs": [],
   "source": [
    "S = VQS_.state(boltzmann = True).bind_parameters(params)\n",
    "\n",
    "rho = partial_trace(Statevector(S),[2,3]).data"
   ]
  },
  {
   "cell_type": "code",
   "execution_count": 626,
   "id": "66b2dfb0",
   "metadata": {},
   "outputs": [],
   "source": [
    "H, H_list = VQS_.return_ham(return_list=True, boltzmann = True)"
   ]
  },
  {
   "cell_type": "code",
   "execution_count": 627,
   "id": "19902fea",
   "metadata": {},
   "outputs": [
    {
     "data": {
      "text/plain": [
       "array([0.02410185+0.j, 0.34627539+0.j, 0.50330822+0.j, 0.12631454+0.j])"
      ]
     },
     "execution_count": 627,
     "metadata": {},
     "output_type": "execute_result"
    }
   ],
   "source": [
    "np.diag(rho)"
   ]
  },
  {
   "cell_type": "code",
   "execution_count": 890,
   "id": "5ef8c2c0",
   "metadata": {},
   "outputs": [
    {
     "data": {
      "text/plain": [
       "array([[ 1.8+0.j,  0. +0.j,  0. +0.j,  0. +0.j,  0. +0.j,  0. +0.j,\n",
       "         0. +0.j,  0. +0.j,  0. +0.j,  0. +0.j,  0. +0.j,  0. +0.j,\n",
       "         0. +0.j,  0. +0.j,  0. +0.j,  0. +0.j],\n",
       "       [ 0. +0.j, -0.2+0.j,  0. +0.j,  0. +0.j,  0. +0.j,  0. +0.j,\n",
       "         0. +0.j,  0. +0.j,  0. +0.j,  0. +0.j,  0. +0.j,  0. +0.j,\n",
       "         0. +0.j,  0. +0.j,  0. +0.j,  0. +0.j],\n",
       "       [ 0. +0.j,  0. +0.j, -1.2+0.j,  0. +0.j,  0. +0.j,  0. +0.j,\n",
       "         0. +0.j,  0. +0.j,  0. +0.j,  0. +0.j,  0. +0.j,  0. +0.j,\n",
       "         0. +0.j,  0. +0.j,  0. +0.j,  0. +0.j],\n",
       "       [ 0. +0.j,  0. +0.j,  0. +0.j,  0.8+0.j,  0. +0.j,  0. +0.j,\n",
       "         0. +0.j,  0. +0.j,  0. +0.j,  0. +0.j,  0. +0.j,  0. +0.j,\n",
       "         0. +0.j,  0. +0.j,  0. +0.j,  0. +0.j],\n",
       "       [ 0. +0.j,  0. +0.j,  0. +0.j,  0. +0.j,  0.2+0.j,  0. +0.j,\n",
       "         0. +0.j,  0. +0.j,  0. +0.j,  0. +0.j,  0. +0.j,  0. +0.j,\n",
       "         0. +0.j,  0. +0.j,  0. +0.j,  0. +0.j],\n",
       "       [ 0. +0.j,  0. +0.j,  0. +0.j,  0. +0.j,  0. +0.j, -1.8+0.j,\n",
       "         0. +0.j,  0. +0.j,  0. +0.j,  0. +0.j,  0. +0.j,  0. +0.j,\n",
       "         0. +0.j,  0. +0.j,  0. +0.j,  0. +0.j],\n",
       "       [ 0. +0.j,  0. +0.j,  0. +0.j,  0. +0.j,  0. +0.j,  0. +0.j,\n",
       "        -0.8+0.j,  0. +0.j,  0. +0.j,  0. +0.j,  0. +0.j,  0. +0.j,\n",
       "         0. +0.j,  0. +0.j,  0. +0.j,  0. +0.j],\n",
       "       [ 0. +0.j,  0. +0.j,  0. +0.j,  0. +0.j,  0. +0.j,  0. +0.j,\n",
       "         0. +0.j,  1.2+0.j,  0. +0.j,  0. +0.j,  0. +0.j,  0. +0.j,\n",
       "         0. +0.j,  0. +0.j,  0. +0.j,  0. +0.j],\n",
       "       [ 0. +0.j,  0. +0.j,  0. +0.j,  0. +0.j,  0. +0.j,  0. +0.j,\n",
       "         0. +0.j,  0. +0.j,  1.2+0.j,  0. +0.j,  0. +0.j,  0. +0.j,\n",
       "         0. +0.j,  0. +0.j,  0. +0.j,  0. +0.j],\n",
       "       [ 0. +0.j,  0. +0.j,  0. +0.j,  0. +0.j,  0. +0.j,  0. +0.j,\n",
       "         0. +0.j,  0. +0.j,  0. +0.j, -0.8+0.j,  0. +0.j,  0. +0.j,\n",
       "         0. +0.j,  0. +0.j,  0. +0.j,  0. +0.j],\n",
       "       [ 0. +0.j,  0. +0.j,  0. +0.j,  0. +0.j,  0. +0.j,  0. +0.j,\n",
       "         0. +0.j,  0. +0.j,  0. +0.j,  0. +0.j, -1.8+0.j,  0. +0.j,\n",
       "         0. +0.j,  0. +0.j,  0. +0.j,  0. +0.j],\n",
       "       [ 0. +0.j,  0. +0.j,  0. +0.j,  0. +0.j,  0. +0.j,  0. +0.j,\n",
       "         0. +0.j,  0. +0.j,  0. +0.j,  0. +0.j,  0. +0.j,  0.2+0.j,\n",
       "         0. +0.j,  0. +0.j,  0. +0.j,  0. +0.j],\n",
       "       [ 0. +0.j,  0. +0.j,  0. +0.j,  0. +0.j,  0. +0.j,  0. +0.j,\n",
       "         0. +0.j,  0. +0.j,  0. +0.j,  0. +0.j,  0. +0.j,  0. +0.j,\n",
       "         0.8+0.j,  0. +0.j,  0. +0.j,  0. +0.j],\n",
       "       [ 0. +0.j,  0. +0.j,  0. +0.j,  0. +0.j,  0. +0.j,  0. +0.j,\n",
       "         0. +0.j,  0. +0.j,  0. +0.j,  0. +0.j,  0. +0.j,  0. +0.j,\n",
       "         0. +0.j, -1.2+0.j,  0. +0.j,  0. +0.j],\n",
       "       [ 0. +0.j,  0. +0.j,  0. +0.j,  0. +0.j,  0. +0.j,  0. +0.j,\n",
       "         0. +0.j,  0. +0.j,  0. +0.j,  0. +0.j,  0. +0.j,  0. +0.j,\n",
       "         0. +0.j,  0. +0.j, -0.2+0.j,  0. +0.j],\n",
       "       [ 0. +0.j,  0. +0.j,  0. +0.j,  0. +0.j,  0. +0.j,  0. +0.j,\n",
       "         0. +0.j,  0. +0.j,  0. +0.j,  0. +0.j,  0. +0.j,  0. +0.j,\n",
       "         0. +0.j,  0. +0.j,  0. +0.j,  1.8+0.j]])"
      ]
     },
     "execution_count": 890,
     "metadata": {},
     "output_type": "execute_result"
    }
   ],
   "source": [
    "H = VQS_.return_ham(boltzmann = True)\n",
    "\n",
    "gibbs = si(-H)"
   ]
  },
  {
   "cell_type": "markdown",
   "id": "e709a3ea",
   "metadata": {},
   "source": [
    "## test"
   ]
  },
  {
   "cell_type": "code",
   "execution_count": 686,
   "id": "4e42aded",
   "metadata": {},
   "outputs": [],
   "source": []
  },
  {
   "cell_type": "code",
   "execution_count": 781,
   "id": "77b632d8",
   "metadata": {},
   "outputs": [],
   "source": [
    "q = QuantumRegister(4)\n",
    "cr = QuantumCircuit(q, name='Fisher')\n",
    "der_pos = 2\n",
    "for i in range(8):\n",
    "    if i == der_pos:\n",
    "        cr.y(der_pos%4)\n",
    "    cr.append(VQS_.V[i].to_instruction(),[q[k] for k in VQS_.pos[i]])\n",
    "params =  {VQS_.V[i].parameters[0] : theta[i] for i in range(8)}\n",
    "new_c = cr.bind_parameters(params)\n",
    "Va = Operator(new_c).data\n",
    "\n",
    "q = QuantumRegister(4)\n",
    "cr = QuantumCircuit(q, name='Fisher')\n",
    "for i in range(8):\n",
    "    cr.append(VQS_.V[i].to_instruction(),[q[k] for k in VQS_.pos[i]])\n",
    "params =  {VQS_.V[i].parameters[0] : theta[i] for i in range(8)}\n",
    "new_c = cr.bind_parameters(params)\n",
    "V = Operator(new_c).data\n",
    "\n",
    "q = QuantumRegister(4)\n",
    "cr = QuantumCircuit(q, name='Fisher')\n",
    "\n",
    "cr.z([0,1])\n",
    "Hzz = Operator(cr).data"
   ]
  },
  {
   "cell_type": "code",
   "execution_count": 782,
   "id": "5b5415bb",
   "metadata": {},
   "outputs": [
    {
     "data": {
      "text/plain": [
       "array([-0.63626436+0.j, -0.63624067+0.j,  0.63626427+0.j,  0.63624076+0.j,\n",
       "        0.63626436+0.j,  0.63624067+0.j, -0.63626427+0.j, -0.63624076+0.j,\n",
       "       -0.6362627 +0.j, -0.63624185+0.j,  0.63626279+0.j,  0.63624176+0.j,\n",
       "        0.6362627 +0.j,  0.63624185+0.j, -0.63626279+0.j, -0.63624176+0.j])"
      ]
     },
     "execution_count": 782,
     "metadata": {},
     "output_type": "execute_result"
    }
   ],
   "source": [
    "np.diag(1j * V.T.conj() @ Hzz @ Va)"
   ]
  },
  {
   "cell_type": "code",
   "execution_count": 784,
   "id": "bf5c85c7",
   "metadata": {},
   "outputs": [
    {
     "data": {
      "text/plain": [
       "array([-0.6302,  0.2666, -0.0686])"
      ]
     },
     "execution_count": 784,
     "metadata": {},
     "output_type": "execute_result"
    }
   ],
   "source": [
    "est2.estimate_A(der_pos=2)[0]"
   ]
  },
  {
   "cell_type": "code",
   "execution_count": 730,
   "id": "19af6933",
   "metadata": {},
   "outputs": [
    {
     "data": {
      "image/png": "[encoded data removed]",
      "text/plain": [
       "<Figure size 267.197x264.88 with 1 Axes>"
      ]
     },
     "execution_count": 730,
     "metadata": {},
     "output_type": "execute_result"
    }
   ],
   "source": [
    "VQS_.V[-1].draw('mpl')"
   ]
  }
 ],
 "metadata": {
  "kernelspec": {
   "display_name": "Python 3",
   "language": "python",
   "name": "python3"
  },
  "language_info": {
   "codemirror_mode": {
    "name": "ipython",
    "version": 3
   },
   "file_extension": ".py",
   "mimetype": "text/x-python",
   "name": "python",
   "nbconvert_exporter": "python",
   "pygments_lexer": "ipython3",
   "version": "3.9.4"
  }
 },
 "nbformat": 4,
 "nbformat_minor": 5
}
