{
 "cells": [
  {
   "cell_type": "code",
   "execution_count": 1,
   "id": "b940a477",
   "metadata": {},
   "outputs": [
    {
     "name": "stderr",
     "output_type": "stream",
     "text": [
      "/home/keisuke/miniconda3/envs/qiskit/lib/python3.7/site-packages/qiskit/optimization/__init__.py:92: DeprecationWarning: The package qiskit.optimization is deprecated. It was moved/refactored to qiskit_optimization (pip install qiskit-optimization). For more information see <https://github.com/Qiskit/qiskit-aqua/blob/main/README.md#migration-guide>\n",
      "  warn_package('optimization', 'qiskit_optimization', 'qiskit-optimization')\n"
     ]
    }
   ],
   "source": [
    "import itertools\n",
    "import networkx as nx\n",
    "import numpy as np\n",
    "\n",
    "import matplotlib.pyplot as plt \n",
    "#%matplotlib inline\n",
    "\n",
    "import qiskit\n",
    "from qiskit import QuantumCircuit, Aer, execute, transpile\n",
    "from qiskit.circuit import ParameterVector\n",
    "from qiskit.utils import QuantumInstance, algorithm_globals\n",
    "from qiskit.opflow import I, X, Y, Z, PauliSumOp\n",
    "from qiskit.algorithms import VQE, QAOA\n",
    "from qiskit.algorithms.optimizers import COBYLA\n",
    "from qiskit.circuit.library import TwoLocal\n",
    "from qiskit_optimization import QuadraticProgram\n",
    "from qiskit.optimization.converters import QuadraticProgramToQubo\n",
    "from qiskit_optimization.algorithms import MinimumEigenOptimizer\n",
    "from qiskit_optimization.converters import InequalityToEquality\n",
    "from qiskit_optimization.converters import LinearEqualityToPenalty\n",
    "from qiskit_optimization.converters import IntegerToBinary\n",
    "\n",
    "\n",
    "from docplex.mp.model import Model\n",
    "from sklearn import manifold\n",
    "from matplotlib import pyplot as plt"
   ]
  },
  {
   "cell_type": "markdown",
   "id": "61c311bf",
   "metadata": {},
   "source": [
    "## Question1. \n",
    "- Formulation TSP as MIP and convert the formulation into a Docplex model"
   ]
  },
  {
   "cell_type": "markdown",
   "id": "27c7caf9",
   "metadata": {},
   "source": [
    "## 1.1 Define classes"
   ]
  },
  {
   "cell_type": "code",
   "execution_count": 287,
   "id": "d589b0f6",
   "metadata": {},
   "outputs": [],
   "source": [
    "# Generating a graph with 3 nodes \n",
    "N = 3\n",
    "V = np.arange(0,N,1)\n",
    "G = nx.Graph()\n",
    "G.add_nodes_from(V)\n"
   ]
  },
  {
   "cell_type": "markdown",
   "id": "3c421e6c",
   "metadata": {},
   "source": [
    "### 1.1.1 class for drawing graph"
   ]
  },
  {
   "cell_type": "code",
   "execution_count": 4,
   "id": "8a4a7ba1",
   "metadata": {},
   "outputs": [],
   "source": [
    "class draw_graph():\n",
    "    \n",
    "    def __init__(self, G, pos):\n",
    "        \n",
    "        self.G = G\n",
    "        self.colors = ['r' for node in G.nodes()]\n",
    "        self.pos = pos\n",
    "    def draw(self):\n",
    "        default_axes = plt.axes(frameon=True)\n",
    "        nx.draw_networkx(self.G, node_color=self.colors, node_size=300,alpha=1, ax=default_axes, pos=self.pos)\n",
    "    \n",
    "    def add_edge(self,E):\n",
    "        self.G.add_weighted_edges_from(E)"
   ]
  },
  {
   "cell_type": "code",
   "execution_count": 288,
   "id": "721ed827",
   "metadata": {},
   "outputs": [
    {
     "data": {
      "image/png": "[encoded data removed]",
      "text/plain": [
       "<Figure size 432x288 with 1 Axes>"
      ]
     },
     "metadata": {},
     "output_type": "display_data"
    }
   ],
   "source": [
    "draw = draw_graph(G,pos)\n",
    "draw.add_edge([(0,1,D[0,1])])\n",
    "draw.draw()"
   ]
  },
  {
   "cell_type": "markdown",
   "id": "932a9e6d",
   "metadata": {},
   "source": [
    "## 1.1.2 class return cplex form of TSP\n",
    "\n",
    "MIP form of TSP is\n",
    "\n",
    "$$\n",
    "i, j  \\in \\{0,..,N-1\\} \\\\ \\\\\n",
    "\\text{optimize} \\sum_{i,j} D_{ij}x_{ij}\\\\\n",
    "\\text{under the constraints} \\\\\\sum_i x_{ij} = 1 \\\\\\sum_j x_{ij} = 1\\\\\n",
    "t_i - t_j + nx_{ij} <= n-1,\\ \\ \\ 1<= i \\neq j<=n-1\n",
    "$$\n",
    "\n",
    "$x_{ij} \\in  \\{0,1\\}$. $  \\{t_i\\}_{i=1,..,N-1} $ are integer and bounded $0 \\leq t_i < N-1$ "
   ]
  },
  {
   "cell_type": "code",
   "execution_count": 289,
   "id": "0997cec5",
   "metadata": {},
   "outputs": [],
   "source": [
    "class TSP():\n",
    "    def __init__(self, N):\n",
    "        \n",
    "        D = np.random.rand(N*N).reshape(N,N)\n",
    "\n",
    "        self.D = D.T + D # Distance Matrix\n",
    "        for n in range(N):\n",
    "            self.D[n,n] = 0\n",
    "        self.N = N\n",
    "\n",
    "                \n",
    "        V = np.arange(0,N,1)\n",
    "        self.G = nx.Graph()\n",
    "        self.G.add_nodes_from(V)\n",
    "        \n",
    "        mds = manifold.MDS(n_components=2, dissimilarity=\"precomputed\", random_state=6)\n",
    "        self.pos = mds.fit_transform(self.D)\n",
    "\n",
    "        \n",
    "                \n",
    "    def draw(self, edge=None):\n",
    "        draw = draw_graph(self.G, self.pos)\n",
    "        if edge:\n",
    "            draw.add_edge(edge)\n",
    "        draw.draw()\n",
    "        \n",
    "    def return_mod(self):\n",
    "        N = self.N\n",
    "        \n",
    "        mod = Model('TSP')\n",
    "        \n",
    "        var = {}\n",
    "        t = []\n",
    "        summation = []\n",
    "        for n1 in range(N):\n",
    "            var[n1] = {}\n",
    "            for n2 in range(N):\n",
    "                if n1!=n2:\n",
    "                    var_ = mod.binary_var(name=f'x{n1}{n2}')\n",
    "                    summation.append(var_ * self.D[n1][n2])\n",
    "                    var[n1][n2] = var_\n",
    "            t.append(mod.integer_var(name=f't{n1+1}',lb=0, ub=N-1))\n",
    "\n",
    "        print(var)\n",
    "        mod.minimize(mod.sum(summation))\n",
    "\n",
    "        for n1 in range(N):\n",
    "            constraint1 = []\n",
    "            constraint2 = []\n",
    "            for n2 in range(N):\n",
    "                if n1!=n2:\n",
    "                    constraint1.append(var[n1][n2])\n",
    "                    constraint2.append(var[n2][n1])\n",
    "            mod.add_constraint(mod.sum(constraint1)==1)\n",
    "            mod.add_constraint(mod.sum(constraint2)==1)\n",
    "\n",
    "        # constraints for not creating subloops\n",
    "\n",
    "        for i in range(1,N):\n",
    "            for j in range(1,N):\n",
    "                if i!=j:\n",
    "                    mod.add_constraint(t[i-1]-t[j-1]+N*var[i][j] <= N-1)\n",
    "        self.mod = mod\n",
    "        return mod\n",
    "    \n",
    "    def solve(self):\n",
    "        self.mod()\n",
    "        return self.mod.solve()"
   ]
  },
  {
   "cell_type": "code",
   "execution_count": 290,
   "id": "926a3843",
   "metadata": {},
   "outputs": [
    {
     "name": "stdout",
     "output_type": "stream",
     "text": [
      "{0: {1: docplex.mp.Var(type=B,name='x01'), 2: docplex.mp.Var(type=B,name='x02')}, 1: {0: docplex.mp.Var(type=B,name='x10'), 2: docplex.mp.Var(type=B,name='x12')}, 2: {0: docplex.mp.Var(type=B,name='x20'), 1: docplex.mp.Var(type=B,name='x21')}}\n"
     ]
    },
    {
     "data": {
      "image/png": "[encoded data removed]",
      "text/plain": [
       "<Figure size 432x288 with 1 Axes>"
      ]
     },
     "metadata": {},
     "output_type": "display_data"
    }
   ],
   "source": [
    "tsp = TSP(3)\n",
    "mod = tsp.return_mod()\n",
    "tsp.draw()"
   ]
  },
  {
   "cell_type": "code",
   "execution_count": 291,
   "id": "ff16e24b",
   "metadata": {},
   "outputs": [
    {
     "name": "stdout",
     "output_type": "stream",
     "text": [
      "\\ This file has been generated by DOcplex\n",
      "\\ ENCODING=ISO-8859-1\n",
      "\\Problem name: TSP\n",
      "\n",
      "Minimize\n",
      " obj: 1.041504257522 x01 + 0.830403480461 x02 + 1.041504257522 x10\n",
      "      + 0.956977294194 x12 + 0.830403480461 x20 + 0.956977294194 x21\n",
      "Subject To\n",
      " c1: x01 + x02 = 1\n",
      " c2: x10 + x20 = 1\n",
      " c3: x10 + x12 = 1\n",
      " c4: x01 + x21 = 1\n",
      " c5: x20 + x21 = 1\n",
      " c6: x02 + x12 = 1\n",
      " c7: t1 + 3 x12 - t2 <= 2\n",
      " c8: - t1 + t2 + 3 x21 <= 2\n",
      "\n",
      "Bounds\n",
      " 0 <= x01 <= 1\n",
      " 0 <= x02 <= 1\n",
      "       t1 <= 2\n",
      " 0 <= x10 <= 1\n",
      " 0 <= x12 <= 1\n",
      "       t2 <= 2\n",
      " 0 <= x20 <= 1\n",
      " 0 <= x21 <= 1\n",
      "       t3 <= 2\n",
      "\n",
      "Binaries\n",
      " x01 x02 x10 x12 x20 x21\n",
      "\n",
      "Generals\n",
      " t1 t2 t3\n",
      "End\n",
      "\n"
     ]
    }
   ],
   "source": [
    "print(mod.export_as_lp_string())"
   ]
  },
  {
   "cell_type": "markdown",
   "id": "c2047821",
   "metadata": {},
   "source": [
    "### end of Question1"
   ]
  },
  {
   "cell_type": "markdown",
   "id": "77429ec0",
   "metadata": {},
   "source": [
    "## Question2 \n",
    "- Apply VQE and/or QAOA to a TSP instance with 3 cities\n",
    " - Make sure that the solution satisfies the constraints\n",
    " - Try various classical optimizers and variational forms"
   ]
  },
  {
   "cell_type": "markdown",
   "id": "7c841613",
   "metadata": {},
   "source": [
    "## 2.1 First, solve with classical optimizer"
   ]
  },
  {
   "cell_type": "code",
   "execution_count": 244,
   "id": "4ed5c05c",
   "metadata": {},
   "outputs": [],
   "source": [
    "edge = []\n",
    "result = mod.solve().as_index_dict()\n",
    "for n in range(N*(N-1)):\n",
    "    if n in result.keys():\n",
    "        edge.append(from_num(n,N)+(1,))"
   ]
  },
  {
   "cell_type": "code",
   "execution_count": 245,
   "id": "ae590fc4",
   "metadata": {},
   "outputs": [],
   "source": [
    "import re \n",
    "edge = []\n",
    "for key, item in mod.solve().as_dict().items():\n",
    "    if 'x' in str(key):\n",
    "        index = re.findall(r'\\d',str(key))\n",
    "        index = [int(ele) for ele in index]\n",
    "        edge.append(tuple(index) + (0,))"
   ]
  },
  {
   "cell_type": "code",
   "execution_count": 246,
   "id": "d8385fa4",
   "metadata": {},
   "outputs": [
    {
     "data": {
      "image/png": "[encoded data removed]",
      "text/plain": [
       "<Figure size 432x288 with 1 Axes>"
      ]
     },
     "metadata": {},
     "output_type": "display_data"
    }
   ],
   "source": [
    "tsp.draw(edge)"
   ]
  },
  {
   "cell_type": "markdown",
   "id": "058fc341",
   "metadata": {},
   "source": [
    "### 2.1.2 Confirm that the mod works correctly by solving TSP for N=5"
   ]
  },
  {
   "cell_type": "code",
   "execution_count": 247,
   "id": "a74a736c",
   "metadata": {},
   "outputs": [
    {
     "name": "stdout",
     "output_type": "stream",
     "text": [
      "{0: {1: docplex.mp.Var(type=B,name='x01'), 2: docplex.mp.Var(type=B,name='x02'), 3: docplex.mp.Var(type=B,name='x03'), 4: docplex.mp.Var(type=B,name='x04')}, 1: {0: docplex.mp.Var(type=B,name='x10'), 2: docplex.mp.Var(type=B,name='x12'), 3: docplex.mp.Var(type=B,name='x13'), 4: docplex.mp.Var(type=B,name='x14')}, 2: {0: docplex.mp.Var(type=B,name='x20'), 1: docplex.mp.Var(type=B,name='x21'), 3: docplex.mp.Var(type=B,name='x23'), 4: docplex.mp.Var(type=B,name='x24')}, 3: {0: docplex.mp.Var(type=B,name='x30'), 1: docplex.mp.Var(type=B,name='x31'), 2: docplex.mp.Var(type=B,name='x32'), 4: docplex.mp.Var(type=B,name='x34')}, 4: {0: docplex.mp.Var(type=B,name='x40'), 1: docplex.mp.Var(type=B,name='x41'), 2: docplex.mp.Var(type=B,name='x42'), 3: docplex.mp.Var(type=B,name='x43')}}\n"
     ]
    }
   ],
   "source": [
    "tsp_test = TSP(5)\n",
    "mod=tsp_test.return_mod()\n",
    "edge = []\n",
    "for key, item in mod.solve().as_dict().items():\n",
    "    if 'x' in str(key):\n",
    "        index = re.findall(r'\\d',str(key))\n",
    "        index = [int(ele) for ele in index]\n",
    "        edge.append(tuple(index) + (0,))"
   ]
  },
  {
   "cell_type": "code",
   "execution_count": 248,
   "id": "63955ce9",
   "metadata": {},
   "outputs": [
    {
     "data": {
      "image/png": "[encoded data removed]",
      "text/plain": [
       "<Figure size 432x288 with 1 Axes>"
      ]
     },
     "metadata": {},
     "output_type": "display_data"
    }
   ],
   "source": [
    "tsp_test.draw(edge)"
   ]
  },
  {
   "cell_type": "markdown",
   "id": "a0bcb254",
   "metadata": {},
   "source": [
    "## 2.2 solve with qiskit"
   ]
  },
  {
   "cell_type": "markdown",
   "id": "0adfd3f5",
   "metadata": {},
   "source": [
    "### 2.2.1 Convert docplex type model to the format so that qiskit can deal with"
   ]
  },
  {
   "cell_type": "code",
   "execution_count": 285,
   "id": "694367c2",
   "metadata": {},
   "outputs": [
    {
     "name": "stdout",
     "output_type": "stream",
     "text": [
      "{0: {1: docplex.mp.Var(type=B,name='x01'), 2: docplex.mp.Var(type=B,name='x02')}, 1: {0: docplex.mp.Var(type=B,name='x10'), 2: docplex.mp.Var(type=B,name='x12')}, 2: {0: docplex.mp.Var(type=B,name='x20'), 1: docplex.mp.Var(type=B,name='x21')}}\n"
     ]
    }
   ],
   "source": [
    "tsp = TSP(3)\n",
    "mod = tsp.return_mod()"
   ]
  },
  {
   "cell_type": "code",
   "execution_count": 286,
   "id": "5147b025",
   "metadata": {},
   "outputs": [
    {
     "name": "stdout",
     "output_type": "stream",
     "text": [
      "\\ This file has been generated by DOcplex\n",
      "\\ ENCODING=ISO-8859-1\n",
      "\\Problem name: TSP\n",
      "\n",
      "Minimize\n",
      " obj: - 17.166114650529 x01 - 16.993000744142 x02 - 17.166114650529 x10\n",
      "      - 69.445967417453 x12 - 16.993000744142 x20 - 69.445967417453 x21\n",
      "      - 17.549801329723 c6@int_slack@0 - 35.099602659447 c6@int_slack@1\n",
      "      - 17.549801329723 c6@int_slack@2 - 17.549801329723 c7@int_slack@0\n",
      "      - 35.099602659447 c7@int_slack@1 - 17.549801329723 c7@int_slack@2 + [\n",
      "      17.549801329723 x01^2 + 17.549801329723 x01*x02 + 17.549801329723 x01*x21\n",
      "      + 17.549801329723 x02^2 + 17.549801329723 x02*x12 + 17.549801329723 t1@0^2\n",
      "      + 35.099602659447 t1@0*t1@1 + 52.649403989170 t1@0*x12\n",
      "      - 35.099602659447 t1@0*t2@0 - 35.099602659447 t1@0*t2@1\n",
      "      - 52.649403989170 t1@0*x21 + 17.549801329723 t1@0*c6@int_slack@0\n",
      "      + 35.099602659447 t1@0*c6@int_slack@1\n",
      "      + 17.549801329723 t1@0*c6@int_slack@2\n",
      "      - 17.549801329723 t1@0*c7@int_slack@0\n",
      "      - 35.099602659447 t1@0*c7@int_slack@1\n",
      "      - 17.549801329723 t1@0*c7@int_slack@2 + 17.549801329723 t1@1^2\n",
      "      + 52.649403989170 t1@1*x12 - 35.099602659447 t1@1*t2@0\n",
      "      - 35.099602659447 t1@1*t2@1 - 52.649403989170 t1@1*x21\n",
      "      + 17.549801329723 t1@1*c6@int_slack@0\n",
      "      + 35.099602659447 t1@1*c6@int_slack@1\n",
      "      + 17.549801329723 t1@1*c6@int_slack@2\n",
      "      - 17.549801329723 t1@1*c7@int_slack@0\n",
      "      - 35.099602659447 t1@1*c7@int_slack@1\n",
      "      - 17.549801329723 t1@1*c7@int_slack@2 + 17.549801329723 x10^2\n",
      "      + 17.549801329723 x10*x12 + 17.549801329723 x10*x20\n",
      "      + 96.523907313478 x12^2 - 52.649403989170 x12*t2@0\n",
      "      - 52.649403989170 x12*t2@1 + 52.649403989170 x12*c6@int_slack@0\n",
      "      + 105.298807978340 x12*c6@int_slack@1 + 52.649403989170 x12*c6@int_slack@2\n",
      "      + 17.549801329723 t2@0^2 + 35.099602659447 t2@0*t2@1\n",
      "      + 52.649403989170 t2@0*x21 - 17.549801329723 t2@0*c6@int_slack@0\n",
      "      - 35.099602659447 t2@0*c6@int_slack@1\n",
      "      - 17.549801329723 t2@0*c6@int_slack@2\n",
      "      + 17.549801329723 t2@0*c7@int_slack@0\n",
      "      + 35.099602659447 t2@0*c7@int_slack@1\n",
      "      + 17.549801329723 t2@0*c7@int_slack@2 + 17.549801329723 t2@1^2\n",
      "      + 52.649403989170 t2@1*x21 - 17.549801329723 t2@1*c6@int_slack@0\n",
      "      - 35.099602659447 t2@1*c6@int_slack@1\n",
      "      - 17.549801329723 t2@1*c6@int_slack@2\n",
      "      + 17.549801329723 t2@1*c7@int_slack@0\n",
      "      + 35.099602659447 t2@1*c7@int_slack@1\n",
      "      + 17.549801329723 t2@1*c7@int_slack@2 + 17.549801329723 x20^2\n",
      "      + 17.549801329723 x20*x21 + 96.523907313478 x21^2\n",
      "      + 52.649403989170 x21*c7@int_slack@0 + 105.298807978340 x21*c7@int_slack@1\n",
      "      + 52.649403989170 x21*c7@int_slack@2 + 8.774900664862 c6@int_slack@0^2\n",
      "      + 35.099602659447 c6@int_slack@0*c6@int_slack@1\n",
      "      + 17.549801329723 c6@int_slack@0*c6@int_slack@2\n",
      "      + 35.099602659447 c6@int_slack@1^2\n",
      "      + 35.099602659447 c6@int_slack@1*c6@int_slack@2\n",
      "      + 8.774900664862 c6@int_slack@2^2 + 8.774900664862 c7@int_slack@0^2\n",
      "      + 35.099602659447 c7@int_slack@0*c7@int_slack@1\n",
      "      + 17.549801329723 c7@int_slack@0*c7@int_slack@2\n",
      "      + 35.099602659447 c7@int_slack@1^2\n",
      "      + 35.099602659447 c7@int_slack@1*c7@int_slack@2\n",
      "      + 8.774900664862 c7@int_slack@2^2 ]/2 + 61.424304654031\n",
      "Subject To\n",
      "\n",
      "Bounds\n",
      " 0 <= x01 <= 1\n",
      " 0 <= x02 <= 1\n",
      " 0 <= t1@0 <= 1\n",
      " 0 <= t1@1 <= 1\n",
      " 0 <= x10 <= 1\n",
      " 0 <= x12 <= 1\n",
      " 0 <= t2@0 <= 1\n",
      " 0 <= t2@1 <= 1\n",
      " 0 <= x20 <= 1\n",
      " 0 <= x21 <= 1\n",
      " 0 <= t3@0 <= 1\n",
      " 0 <= t3@1 <= 1\n",
      " 0 <= c6@int_slack@0 <= 1\n",
      " 0 <= c6@int_slack@1 <= 1\n",
      " 0 <= c6@int_slack@2 <= 1\n",
      " 0 <= c7@int_slack@0 <= 1\n",
      " 0 <= c7@int_slack@1 <= 1\n",
      " 0 <= c7@int_slack@2 <= 1\n",
      "\n",
      "Binaries\n",
      " x01 x02 t1@0 t1@1 x10 x12 t2@0 t2@1 x20 x21 t3@0 t3@1 c6@int_slack@0\n",
      " c6@int_slack@1 c6@int_slack@2 c7@int_slack@0 c7@int_slack@1 c7@int_slack@2\n",
      "End\n",
      "\n"
     ]
    }
   ],
   "source": [
    "qp = QuadraticProgram()\n",
    "qp.from_docplex(mod)\n",
    "\n",
    "ineq2eq = InequalityToEquality()\n",
    "qp_eq = ineq2eq.convert(qp)\n",
    "\n",
    "lineq2penalty = LinearEqualityToPenalty()\n",
    "qubo = lineq2penalty.convert(qp_eq)\n",
    "\n",
    "int2bin = IntegerToBinary()\n",
    "qp_eq_bin = int2bin.convert(qubo)\n",
    "\n",
    "print(qp_eq_bin)"
   ]
  },
  {
   "cell_type": "markdown",
   "id": "8b3869f2",
   "metadata": {},
   "source": [
    "### 2.2.2 vqe"
   ]
  },
  {
   "cell_type": "code",
   "execution_count": 254,
   "id": "e341594e",
   "metadata": {},
   "outputs": [],
   "source": [
    "seed = 1234\n",
    "maxiter=100\n",
    "\n",
    "algorithm_globals.random_seed = seed\n",
    "ins = QuantumInstance(backend=Aer.get_backend('aer_simulator'), shots=2000, seed_simulator=seed, seed_transpiler=seed)\n",
    "vqe = VQE(optimizer=COBYLA(maxiter=maxiter), quantum_instance=ins)\n",
    "min_eigen_optimizer = MinimumEigenOptimizer(vqe)\n",
    "result = min_eigen_optimizer.solve(qp_eq_bin)"
   ]
  },
  {
   "cell_type": "code",
   "execution_count": 280,
   "id": "2a7197a5",
   "metadata": {},
   "outputs": [],
   "source": [
    "varnames = [v.name for v in result.variables]"
   ]
  },
  {
   "cell_type": "code",
   "execution_count": 268,
   "id": "738a8ce5",
   "metadata": {},
   "outputs": [],
   "source": [
    "edge = []\n",
    "for i in range(N):\n",
    "    for j in range(N):\n",
    "        if (i!=j) and (result.variables_dict[f'x{i}{j}']==1) :\n",
    "            edge.append((i,j,0))"
   ]
  },
  {
   "cell_type": "code",
   "execution_count": 270,
   "id": "1820180a",
   "metadata": {},
   "outputs": [
    {
     "data": {
      "image/png": "[encoded data removed]",
      "text/plain": [
       "<Figure size 432x288 with 1 Axes>"
      ]
     },
     "metadata": {},
     "output_type": "display_data"
    }
   ],
   "source": [
    "tsp.draw(edge)"
   ]
  },
  {
   "cell_type": "markdown",
   "id": "9f0637ae",
   "metadata": {},
   "source": [
    "### 2.2.3 QAOA"
   ]
  },
  {
   "cell_type": "code",
   "execution_count": 283,
   "id": "42f591f4",
   "metadata": {},
   "outputs": [],
   "source": [
    "maxiter2 = 100\n",
    "qaoa = QAOA(optimizer=COBYLA(maxiter=maxiter2), quantum_instance=ins, reps=3)\n",
    "min_eigen_optimizer = MinimumEigenOptimizer(qaoa)\n",
    "result = min_eigen_optimizer.solve(qp_eq_bin)"
   ]
  },
  {
   "cell_type": "code",
   "execution_count": 284,
   "id": "e7b3a4f1",
   "metadata": {},
   "outputs": [
    {
     "data": {
      "image/png": "[encoded data removed]",
      "text/plain": [
       "<Figure size 432x288 with 1 Axes>"
      ]
     },
     "metadata": {},
     "output_type": "display_data"
    }
   ],
   "source": [
    "edge = []\n",
    "for i in range(N):\n",
    "    for j in range(N):\n",
    "        if (i!=j) and (result.variables_dict[f'x{i}{j}']==1) :\n",
    "            edge.append((i,j,0))\n",
    "tsp.draw(edge)"
   ]
  }
 ],
 "metadata": {
  "kernelspec": {
   "display_name": "Python 3",
   "language": "python",
   "name": "python3"
  },
  "language_info": {
   "codemirror_mode": {
    "name": "ipython",
    "version": 3
   },
   "file_extension": ".py",
   "mimetype": "text/x-python",
   "name": "python",
   "nbconvert_exporter": "python",
   "pygments_lexer": "ipython3",
   "version": "3.7.10"
  }
 },
 "nbformat": 4,
 "nbformat_minor": 5
}
