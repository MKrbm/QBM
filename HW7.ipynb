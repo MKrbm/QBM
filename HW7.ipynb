{
 "cells": [
  {
   "cell_type": "code",
   "execution_count": 1,
   "id": "7c6a6375",
   "metadata": {},
   "outputs": [],
   "source": [
    "import numpy as np\n",
    "from qiskit import *\n",
    "from qiskit.circuit import Parameter\n",
    "import qiskit.quantum_info as qi\n",
    "\n",
    "from qiskit import IBMQ\n",
    "from IBM_Q import API_IBM\n",
    "\n",
    "IBMQ.save_account(API_IBM, overwrite=True)\n",
    "\n",
    "\n",
    "IBMQ.load_account() # Load account from disk\n",
    "IBMQ.providers()    # List all available providers\n",
    "\n",
    "provider = IBMQ.get_provider(hub='ibm-q-utokyo')\n",
    "backend = provider.get_backend('ibmq_montreal')"
   ]
  },
  {
   "cell_type": "code",
   "execution_count": 19,
   "id": "64194161",
   "metadata": {},
   "outputs": [],
   "source": [
    "def initialization(circuit,a):\n",
    "    # Initialization\n",
    "    n = circuit.num_qubits\n",
    "    # For input qubits\n",
    "    for qubit in range(n-a):\n",
    "        circuit.h(qubit)\n",
    "    # For the ancilla bit\n",
    "    circuit.x(n-1)\n",
    "    circuit.h(n-1)\n",
    "    circuit.barrier()"
   ]
  },
  {
   "cell_type": "code",
   "execution_count": 3,
   "id": "374ba260",
   "metadata": {},
   "outputs": [
    {
     "data": {
      "image/png": "[encoded data removed]",
      "text/plain": [
       "<Figure size 321.709x204.68 with 1 Axes>"
      ]
     },
     "execution_count": 3,
     "metadata": {},
     "output_type": "execute_result"
    }
   ],
   "source": [
    "n = 4\n",
    "qr = QuantumRegister(n, 'q')\n",
    "anc = QuantumRegister(3, 'ancilla')\n",
    "initialization_circuit = QuantumCircuit(qr, anc)\n",
    "\n",
    "initialization(initialization_circuit)\n",
    "initialization_circuit.draw('mpl')"
   ]
  },
  {
   "cell_type": "code",
   "execution_count": 14,
   "id": "2fa30a13",
   "metadata": {},
   "outputs": [],
   "source": [
    "def oracle(circuit):\n",
    "    circuit.mct([0,1,2,3],4)\n",
    "    for i in range(4):\n",
    "        circuit.x(i)\n",
    "    circuit.mct([0,1,2,3],5)\n",
    "    for i in range(4):\n",
    "        circuit.x(i)\n",
    "    circuit.x(6)\n",
    "    circuit.barrier()\n",
    "    for i in range(4,6):\n",
    "        circuit.x(i)\n",
    "    circuit.ccx(4,5,6)\n",
    "    for i in range(4,6):\n",
    "        circuit.x(i)\n",
    "    circuit.barrier()"
   ]
  },
  {
   "cell_type": "code",
   "execution_count": 111,
   "id": "52170700",
   "metadata": {},
   "outputs": [],
   "source": [
    "def diffusion(circuit, a):\n",
    "    input_qubits = circuit.num_qubits - a\n",
    "    circuit.h(range(0, input_qubits))\n",
    "    circuit.x(range(0, input_qubits))\n",
    "    circuit.h(input_qubits-1)\n",
    "    circuit.mct([i for i in range(0, input_qubits-1)], input_qubits-1)\n",
    "    circuit.h(input_qubits-1)\n",
    "    circuit.x(range(0, input_qubits))\n",
    "    circuit.h(range(0, input_qubits))\n",
    "    circuit.barrier()"
   ]
  },
  {
   "cell_type": "code",
   "execution_count": 112,
   "id": "1f56a0f4",
   "metadata": {},
   "outputs": [],
   "source": [
    "n = 4\n",
    "a = 3\n",
    "qr = QuantumRegister(n, 'q')\n",
    "anc = QuantumRegister(a, 'ancilla')\n",
    "c = ClassicalRegister(n)\n",
    "grover_circuit = QuantumCircuit(qr, anc,c)"
   ]
  },
  {
   "cell_type": "code",
   "execution_count": 113,
   "id": "989215c3",
   "metadata": {},
   "outputs": [],
   "source": [
    "# Let's do Grover search\n",
    "num_iterations = 1\n",
    "initialization(grover_circuit,a)\n",
    "for i in range(0, num_iterations):\n",
    "    oracle(grover_circuit)\n",
    "    diffusion(grover_circuit, a)"
   ]
  },
  {
   "cell_type": "code",
   "execution_count": 114,
   "id": "4c789003",
   "metadata": {},
   "outputs": [
    {
     "data": {
      "text/plain": [
       "<qiskit.circuit.instructionset.InstructionSet at 0x7fb98443e970>"
      ]
     },
     "execution_count": 114,
     "metadata": {},
     "output_type": "execute_result"
    }
   ],
   "source": [
    "grover_circuit.measure(qr,c)"
   ]
  },
  {
   "cell_type": "code",
   "execution_count": 115,
   "id": "761759cd",
   "metadata": {},
   "outputs": [
    {
     "data": {
      "image/png": "[encoded data removed]",
      "text/plain": [
       "<Figure size 504x360 with 1 Axes>"
      ]
     },
     "execution_count": 115,
     "metadata": {},
     "output_type": "execute_result"
    }
   ],
   "source": [
    "# import basic plot tools\n",
    "from qiskit.visualization import plot_histogram\n",
    "backend = Aer.get_backend('qasm_simulator')\n",
    "shots = 10**4\n",
    "results = execute(grover_circuit, backend=backend, shots=shots).result()\n",
    "answer = results.get_counts()\n",
    "plot_histogram(answer)"
   ]
  },
  {
   "cell_type": "code",
   "execution_count": null,
   "id": "1f7a7ebb",
   "metadata": {},
   "outputs": [],
   "source": []
  }
 ],
 "metadata": {
  "kernelspec": {
   "display_name": "Python 3",
   "language": "python",
   "name": "python3"
  },
  "language_info": {
   "codemirror_mode": {
    "name": "ipython",
    "version": 3
   },
   "file_extension": ".py",
   "mimetype": "text/x-python",
   "name": "python",
   "nbconvert_exporter": "python",
   "pygments_lexer": "ipython3",
   "version": "3.9.4"
  }
 },
 "nbformat": 4,
 "nbformat_minor": 5
}
