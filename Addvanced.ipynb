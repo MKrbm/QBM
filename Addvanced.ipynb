{
 "cells": [
  {
   "cell_type": "code",
   "execution_count": 1,
   "id": "b9b7cfd6",
   "metadata": {},
   "outputs": [],
   "source": [
    "import numpy as np\n",
    "from qiskit import *"
   ]
  },
  {
   "cell_type": "code",
   "execution_count": 2,
   "id": "0858b14c",
   "metadata": {},
   "outputs": [
    {
     "data": {
      "text/html": [
       "<pre style=\"word-wrap: normal;white-space: pre;background: #fff0;line-height: 1.1;font-family: &quot;Courier New&quot;,Courier,monospace\">     ┌──────────┐            \n",
       "q_0: ┤0         ├────────────\n",
       "     │  my_gate │┌──────────┐\n",
       "q_1: ┤1         ├┤0         ├\n",
       "     └──────────┘│  my_gate │\n",
       "q_2: ────────────┤1         ├\n",
       "                 └──────────┘</pre>"
      ],
      "text/plain": [
       "     ┌──────────┐            \n",
       "q_0: ┤0         ├────────────\n",
       "     │  my_gate │┌──────────┐\n",
       "q_1: ┤1         ├┤0         ├\n",
       "     └──────────┘│  my_gate │\n",
       "q_2: ────────────┤1         ├\n",
       "                 └──────────┘"
      ]
     },
     "execution_count": 2,
     "metadata": {},
     "output_type": "execute_result"
    }
   ],
   "source": [
    "from qiskit.circuit import Gate\n",
    "\n",
    "my_gate = Gate(name='my_gate', num_qubits=2, params=[])\n",
    "qr = QuantumRegister(3, 'q')\n",
    "circ = QuantumCircuit(qr)\n",
    "circ.append(my_gate, [qr[0], qr[1]])\n",
    "circ.append(my_gate, [qr[1], qr[2]])\n",
    "\n",
    "circ.draw()"
   ]
  },
  {
   "cell_type": "markdown",
   "id": "2b894efd",
   "metadata": {},
   "source": [
    "# Composite Gates¶\n"
   ]
  },
  {
   "cell_type": "code",
   "execution_count": 3,
   "id": "726c0d9c",
   "metadata": {},
   "outputs": [
    {
     "name": "stderr",
     "output_type": "stream",
     "text": [
      "<ipython-input-3-1b85e9df9bff>:8: DeprecationWarning: The QuantumCircuit.u3 method is deprecated as of 0.16.0. It will be removed no earlier than 3 months after the release date. You should use QuantumCircuit.u instead, which acts identically. Alternatively, you can decompose u3 in terms of QuantumCircuit.p and QuantumCircuit.sx: u3(ϴ,φ,λ) = p(φ+π) sx p(ϴ+π) sx p(λ) (2 pulses on hardware).\n",
      "  sub_circ.u3(1, 2, -2, sub_q[0])\n"
     ]
    },
    {
     "data": {
      "text/html": [
       "<pre style=\"word-wrap: normal;white-space: pre;background: #fff0;line-height: 1.1;font-family: &quot;Courier New&quot;,Courier,monospace\">     ┌───┐                       \n",
       "q_0: ┤ H ├──■────────────────────\n",
       "     └───┘┌─┴─┐     ┌───────────┐\n",
       "q_1: ─────┤ X ├──■──┤0          ├\n",
       "          └───┘┌─┴─┐│  sub_circ │\n",
       "q_2: ──────────┤ X ├┤1          ├\n",
       "               └───┘└───────────┘</pre>"
      ],
      "text/plain": [
       "     ┌───┐                       \n",
       "q_0: ┤ H ├──■────────────────────\n",
       "     └───┘┌─┴─┐     ┌───────────┐\n",
       "q_1: ─────┤ X ├──■──┤0          ├\n",
       "          └───┘┌─┴─┐│  sub_circ │\n",
       "q_2: ──────────┤ X ├┤1          ├\n",
       "               └───┘└───────────┘"
      ]
     },
     "execution_count": 3,
     "metadata": {},
     "output_type": "execute_result"
    }
   ],
   "source": [
    "# Build a sub-circuit\n",
    "sub_q = QuantumRegister(2)\n",
    "sub_circ = QuantumCircuit(sub_q, name='sub_circ')\n",
    "sub_circ.h(sub_q[0])\n",
    "sub_circ.crz(1, sub_q[0], sub_q[1])\n",
    "sub_circ.barrier()\n",
    "sub_circ.id(sub_q[1])\n",
    "sub_circ.u3(1, 2, -2, sub_q[0])\n",
    "\n",
    "# Convert to a gate and stick it into an arbitrary place in the bigger circuit\n",
    "sub_inst = sub_circ.to_instruction()\n",
    "\n",
    "qr = QuantumRegister(3, 'q')\n",
    "circ = QuantumCircuit(qr)\n",
    "circ.h(qr[0])\n",
    "circ.cx(qr[0], qr[1])\n",
    "circ.cx(qr[1], qr[2])\n",
    "circ.append(sub_inst, [qr[1], qr[2]])\n",
    "\n",
    "circ.draw()"
   ]
  },
  {
   "cell_type": "code",
   "execution_count": 4,
   "id": "50ebbfc8",
   "metadata": {},
   "outputs": [
    {
     "data": {
      "text/html": [
       "<pre style=\"word-wrap: normal;white-space: pre;background: #fff0;line-height: 1.1;font-family: &quot;Courier New&quot;,Courier,monospace\">     ┌─────────┐                                         \n",
       "q_0: ┤ U2(0,π) ├──■──────────────────────────────────────\n",
       "     └─────────┘┌─┴─┐     ┌───┐          ░ ┌────────────┐\n",
       "q_1: ───────────┤ X ├──■──┤ H ├────■─────░─┤ U3(1,2,-2) ├\n",
       "                └───┘┌─┴─┐└───┘┌───┴───┐ ░ └───┬───┬────┘\n",
       "q_2: ────────────────┤ X ├─────┤ RZ(1) ├─░─────┤ I ├─────\n",
       "                     └───┘     └───────┘ ░     └───┘     </pre>"
      ],
      "text/plain": [
       "     ┌─────────┐                                         \n",
       "q_0: ┤ U2(0,π) ├──■──────────────────────────────────────\n",
       "     └─────────┘┌─┴─┐     ┌───┐          ░ ┌────────────┐\n",
       "q_1: ───────────┤ X ├──■──┤ H ├────■─────░─┤ U3(1,2,-2) ├\n",
       "                └───┘┌─┴─┐└───┘┌───┴───┐ ░ └───┬───┬────┘\n",
       "q_2: ────────────────┤ X ├─────┤ RZ(1) ├─░─────┤ I ├─────\n",
       "                     └───┘     └───────┘ ░     └───┘     "
      ]
     },
     "execution_count": 4,
     "metadata": {},
     "output_type": "execute_result"
    }
   ],
   "source": [
    "decomposed_circ = circ.decompose()\n",
    "circ1 = transpile(decomposed_circ)\n",
    "decomposed_circ.draw()"
   ]
  },
  {
   "cell_type": "code",
   "execution_count": 5,
   "id": "195494b4",
   "metadata": {},
   "outputs": [
    {
     "data": {
      "text/plain": [
       "array([ 0.63083564+0.14346142j,  0.        +0.j        ,\n",
       "        0.28531987+0.00760246j,  0.        +0.j        ,\n",
       "        0.        +0.j        ,  0.45574789-0.23911229j,\n",
       "        0.        +0.j        , -0.48483129+0.00760246j])"
      ]
     },
     "execution_count": 5,
     "metadata": {},
     "output_type": "execute_result"
    }
   ],
   "source": [
    "backend = BasicAer.get_backend('statevector_simulator')\n",
    "job = execute(circ, backend)\n",
    "qc_state = job.result().get_statevector(circ)\n",
    "qc_state"
   ]
  },
  {
   "cell_type": "markdown",
   "id": "03c4e25d",
   "metadata": {},
   "source": [
    "# Parameterized circuits"
   ]
  },
  {
   "cell_type": "code",
   "execution_count": 6,
   "id": "8f938a2e",
   "metadata": {},
   "outputs": [
    {
     "data": {
      "image/png": "[encoded data removed]",
      "text/plain": [
       "<Figure size 869.197x325.08 with 1 Axes>"
      ]
     },
     "execution_count": 6,
     "metadata": {},
     "output_type": "execute_result"
    }
   ],
   "source": [
    "from qiskit.circuit import Parameter\n",
    "\n",
    "theta = Parameter('θ')\n",
    "\n",
    "n = 5\n",
    "\n",
    "qc = QuantumCircuit(5)\n",
    "\n",
    "qc.h(0)\n",
    "for i in range(n-1):\n",
    "    qc.cx(i, i+1)\n",
    "\n",
    "qc.barrier()\n",
    "qc.rz(theta, range(5))\n",
    "qc.barrier()\n",
    "\n",
    "for i in reversed(range(n-1)):\n",
    "    qc.cx(i, i+1)\n",
    "qc.h(0)\n",
    "\n",
    "qc.draw('mpl')"
   ]
  },
  {
   "cell_type": "code",
   "execution_count": 7,
   "id": "b2061936",
   "metadata": {},
   "outputs": [],
   "source": [
    "meas = QuantumCircuit(n, 1)\n",
    "# meas.barrier(range(n))\n",
    "# map the quantum measurement to the classical bits\n",
    "meas.measure(0, 0)\n",
    "\n",
    "qc_meas = meas.compose(qc, range(n), front=True)\n",
    "\n",
    "#drawing the circuit"
   ]
  },
  {
   "cell_type": "code",
   "execution_count": 8,
   "id": "e2fa93bd",
   "metadata": {},
   "outputs": [
    {
     "name": "stdout",
     "output_type": "stream",
     "text": [
      "ParameterView([Parameter(θ)])\n"
     ]
    }
   ],
   "source": [
    "print(qc_meas.parameters)"
   ]
  },
  {
   "cell_type": "markdown",
   "id": "0234f77f",
   "metadata": {},
   "source": [
    "# Binding parameters to values"
   ]
  },
  {
   "cell_type": "code",
   "execution_count": 9,
   "id": "ef94a382",
   "metadata": {
    "scrolled": true
   },
   "outputs": [],
   "source": [
    "import numpy as np\n",
    "theta_range = np.linspace(0, 2 * np.pi, 128)"
   ]
  },
  {
   "cell_type": "code",
   "execution_count": 10,
   "id": "cdebbeae",
   "metadata": {},
   "outputs": [],
   "source": [
    "from qiskit.circuit import Parameter\n",
    "\n",
    "job = execute(qc_meas,\n",
    "              backend=BasicAer.get_backend('qasm_simulator'),\n",
    "              parameter_binds=[{theta: theta_val} for theta_val in theta_range])\n",
    "\n",
    "counts = job.result().get_counts()"
   ]
  },
  {
   "cell_type": "code",
   "execution_count": 12,
   "id": "75e871e8",
   "metadata": {},
   "outputs": [
    {
     "data": {
      "text/plain": [
       "<matplotlib.legend.Legend at 0x7efbd2d0af40>"
      ]
     },
     "execution_count": 12,
     "metadata": {},
     "output_type": "execute_result"
    },
    {
     "data": {
      "image/png": "[encoded data removed]",
      "text/plain": [
       "<Figure size 576x432 with 1 Axes>"
      ]
     },
     "metadata": {
      "needs_background": "light"
     },
     "output_type": "display_data"
    }
   ],
   "source": [
    "import matplotlib.pyplot as plt\n",
    "fig = plt.figure(figsize=(8,6))\n",
    "ax = fig.add_subplot(111)\n",
    "\n",
    "ax.plot(theta_range, list(map(lambda c: c.get('0', 0), counts)), '.-', label='0')\n",
    "ax.plot(theta_range, list(map(lambda c: c.get('1', 0), counts)), '.-', label='1')\n",
    "\n",
    "ax.set_xticks([i * np.pi / 2 for i in range(5)])\n",
    "ax.set_xticklabels(['0', r'$\\frac{\\pi}{2}$', r'$\\pi$', r'$\\frac{3\\pi}{2}$', r'$2\\pi$'], fontsize=14)\n",
    "ax.set_xlabel('θ', fontsize=14)\n",
    "ax.set_ylabel('Counts', fontsize=14)\n",
    "ax.legend(fontsize=14)"
   ]
  },
  {
   "cell_type": "markdown",
   "id": "e9735218",
   "metadata": {},
   "source": [
    "# Composition of parameters"
   ]
  },
  {
   "cell_type": "code",
   "execution_count": 16,
   "id": "42142804",
   "metadata": {
    "scrolled": true
   },
   "outputs": [
    {
     "name": "stdout",
     "output_type": "stream",
     "text": [
      "     ┌────────────┐┌────────────┐┌──────────────────┐\n",
      "q_0: ┤0           ├┤0           ├┤ U3(0.1,phi2,0.3) ├\n",
      "     │  sc_1(phi) ││  sc_2(phi) │└──────────────────┘\n",
      "q_1: ┤1           ├┤1           ├────────────────────\n",
      "     ├────────────┤└────────────┘                    \n",
      "q_2: ┤0           ├──────────────────────────────────\n",
      "     │  sc_2(phi) │                                  \n",
      "q_3: ┤1           ├──────────────────────────────────\n",
      "     └────────────┘                                  \n"
     ]
    }
   ],
   "source": [
    "phi = Parameter('phi')\n",
    "phi2 = Parameter('phi2')\n",
    "\n",
    "sub_circ1 = QuantumCircuit(2, name='sc_1')\n",
    "sub_circ1.rz(phi, 0)\n",
    "sub_circ1.rx(phi, 1)\n",
    "\n",
    "sub_circ2 = QuantumCircuit(2, name='sc_2')\n",
    "sub_circ2.rx(phi, 0)\n",
    "sub_circ2.rz(phi, 1)\n",
    "\n",
    "qc = QuantumCircuit(4)\n",
    "qr = qc.qregs[0]\n",
    "\n",
    "qc.append(sub_circ1.to_instruction(), [qr[0], qr[1]])\n",
    "qc.append(sub_circ2.to_instruction(), [qr[0], qr[1]])\n",
    "\n",
    "qc.append(sub_circ2.to_instruction(), [qr[2], qr[3]])\n",
    "qc.u3(0.1, phi2, 0.3, 0)\n",
    "\n",
    "print(qc.draw())"
   ]
  },
  {
   "cell_type": "code",
   "execution_count": null,
   "id": "e7934df8",
   "metadata": {},
   "outputs": [],
   "source": []
  },
  {
   "cell_type": "markdown",
   "id": "65d03a5e",
   "metadata": {},
   "source": [
    "To insert a subcircuit under a different parameterization, the to_instruction method accepts an optional argument (parameter_map) which, when present, will generate instructions with the source parameter replaced by a new parameter."
   ]
  },
  {
   "cell_type": "code",
   "execution_count": 45,
   "id": "2e281278",
   "metadata": {
    "scrolled": true
   },
   "outputs": [
    {
     "data": {
      "image/png": "[encoded data removed]",
      "text/plain": [
       "<Figure size 246.375x565.88 with 1 Axes>"
      ]
     },
     "execution_count": 45,
     "metadata": {},
     "output_type": "execute_result"
    }
   ],
   "source": [
    "p = Parameter('p')\n",
    "qc = QuantumCircuit(3, name='oracle')\n",
    "qc.rz(p, 0)\n",
    "qc.cx(0, 1)\n",
    "qc.rz(p, 1)\n",
    "qc.cx(1, 2)\n",
    "qc.rz(p, 2)\n",
    "\n",
    "theta = Parameter('theta')\n",
    "phi = Parameter('phi')\n",
    "gamma = Parameter('gamma')\n",
    "\n",
    "qr = QuantumRegister(9)\n",
    "larger_qc = QuantumCircuit(qr)\n",
    "larger_qc.append(qc.to_instruction({p: theta}), qr[0:3])\n",
    "larger_qc.append(qc.to_instruction({p: phi}), qr[3:6])\n",
    "larger_qc.append(qc.to_instruction({p: gamma}), qr[6:9])\n",
    "larger_qc.draw('mpl')\n",
    "\n"
   ]
  },
  {
   "cell_type": "code",
   "execution_count": 46,
   "id": "299f2abd",
   "metadata": {},
   "outputs": [],
   "source": [
    "n = 9\n",
    "meas = QuantumCircuit(n, 1)\n",
    "# meas.barrier(range(n))\n",
    "# map the quantum measurement to the classical bits\n",
    "meas.measure(0, 0)\n",
    "\n",
    "qc_meas = meas.compose(larger_qc, range(n), front=True)"
   ]
  },
  {
   "cell_type": "code",
   "execution_count": 47,
   "id": "3c557090",
   "metadata": {},
   "outputs": [],
   "source": [
    "theta_range = np.linspace(0,np.pi*2, 128)"
   ]
  },
  {
   "cell_type": "code",
   "execution_count": 1,
   "id": "8bed0cd0",
   "metadata": {},
   "outputs": [
    {
     "ename": "NameError",
     "evalue": "name 'execute' is not defined",
     "output_type": "error",
     "traceback": [
      "\u001b[0;31m---------------------------------------------------------------------------\u001b[0m",
      "\u001b[0;31mNameError\u001b[0m                                 Traceback (most recent call last)",
      "\u001b[0;32m<ipython-input-1-83b5a9b585d9>\u001b[0m in \u001b[0;36m<module>\u001b[0;34m\u001b[0m\n\u001b[1;32m      1\u001b[0m \u001b[0;32mfrom\u001b[0m \u001b[0mqiskit\u001b[0m\u001b[0;34m.\u001b[0m\u001b[0mcircuit\u001b[0m \u001b[0;32mimport\u001b[0m \u001b[0mParameter\u001b[0m\u001b[0;34m\u001b[0m\u001b[0;34m\u001b[0m\u001b[0m\n\u001b[1;32m      2\u001b[0m \u001b[0;34m\u001b[0m\u001b[0m\n\u001b[0;32m----> 3\u001b[0;31m job = execute(qc_meas,\n\u001b[0m\u001b[1;32m      4\u001b[0m               \u001b[0mbackend\u001b[0m\u001b[0;34m=\u001b[0m\u001b[0mBasicAer\u001b[0m\u001b[0;34m.\u001b[0m\u001b[0mget_backend\u001b[0m\u001b[0;34m(\u001b[0m\u001b[0;34m'qasm_simulator'\u001b[0m\u001b[0;34m)\u001b[0m\u001b[0;34m,\u001b[0m\u001b[0;34m\u001b[0m\u001b[0;34m\u001b[0m\u001b[0m\n\u001b[1;32m      5\u001b[0m               parameter_binds=[{theta: theta_val, phi : theta_val, gamma : theta_val} for theta_val in theta_range])\n",
      "\u001b[0;31mNameError\u001b[0m: name 'execute' is not defined"
     ]
    }
   ],
   "source": [
    "from qiskit.circuit import Parameter\n",
    "\n",
    "job = execute(qc_meas,\n",
    "              backend=BasicAer.get_backend('qasm_simulator'),\n",
    "              parameter_binds=[{theta: theta_val, phi : theta_val, gamma : theta_val} for theta_val in theta_range])\n",
    "\n",
    "counts = job.result().get_counts()"
   ]
  },
  {
   "cell_type": "code",
   "execution_count": 49,
   "id": "9ea19630",
   "metadata": {},
   "outputs": [
    {
     "data": {
      "text/plain": [
       "[{'0': 1024},\n",
       " {'0': 1024},\n",
       " {'0': 1024},\n",
       " {'0': 1024},\n",
       " {'0': 1024},\n",
       " {'0': 1024},\n",
       " {'0': 1024},\n",
       " {'0': 1024},\n",
       " {'0': 1024},\n",
       " {'0': 1024},\n",
       " {'0': 1024},\n",
       " {'0': 1024},\n",
       " {'0': 1024},\n",
       " {'0': 1024},\n",
       " {'0': 1024},\n",
       " {'0': 1024},\n",
       " {'0': 1024},\n",
       " {'0': 1024},\n",
       " {'0': 1024},\n",
       " {'0': 1024},\n",
       " {'0': 1024},\n",
       " {'0': 1024},\n",
       " {'0': 1024},\n",
       " {'0': 1024},\n",
       " {'0': 1024},\n",
       " {'0': 1024},\n",
       " {'0': 1024},\n",
       " {'0': 1024},\n",
       " {'0': 1024},\n",
       " {'0': 1024},\n",
       " {'0': 1024},\n",
       " {'0': 1024},\n",
       " {'0': 1024},\n",
       " {'0': 1024},\n",
       " {'0': 1024},\n",
       " {'0': 1024},\n",
       " {'0': 1024},\n",
       " {'0': 1024},\n",
       " {'0': 1024},\n",
       " {'0': 1024},\n",
       " {'0': 1024},\n",
       " {'0': 1024},\n",
       " {'0': 1024},\n",
       " {'0': 1024},\n",
       " {'0': 1024},\n",
       " {'0': 1024},\n",
       " {'0': 1024},\n",
       " {'0': 1024},\n",
       " {'0': 1024},\n",
       " {'0': 1024},\n",
       " {'0': 1024},\n",
       " {'0': 1024},\n",
       " {'0': 1024},\n",
       " {'0': 1024},\n",
       " {'0': 1024},\n",
       " {'0': 1024},\n",
       " {'0': 1024},\n",
       " {'0': 1024},\n",
       " {'0': 1024},\n",
       " {'0': 1024},\n",
       " {'0': 1024},\n",
       " {'0': 1024},\n",
       " {'0': 1024},\n",
       " {'0': 1024},\n",
       " {'0': 1024},\n",
       " {'0': 1024},\n",
       " {'0': 1024},\n",
       " {'0': 1024},\n",
       " {'0': 1024},\n",
       " {'0': 1024},\n",
       " {'0': 1024},\n",
       " {'0': 1024},\n",
       " {'0': 1024},\n",
       " {'0': 1024},\n",
       " {'0': 1024},\n",
       " {'0': 1024},\n",
       " {'0': 1024},\n",
       " {'0': 1024},\n",
       " {'0': 1024},\n",
       " {'0': 1024},\n",
       " {'0': 1024},\n",
       " {'0': 1024},\n",
       " {'0': 1024},\n",
       " {'0': 1024},\n",
       " {'0': 1024},\n",
       " {'0': 1024},\n",
       " {'0': 1024},\n",
       " {'0': 1024},\n",
       " {'0': 1024},\n",
       " {'0': 1024},\n",
       " {'0': 1024},\n",
       " {'0': 1024},\n",
       " {'0': 1024},\n",
       " {'0': 1024},\n",
       " {'0': 1024},\n",
       " {'0': 1024},\n",
       " {'0': 1024},\n",
       " {'0': 1024},\n",
       " {'0': 1024},\n",
       " {'0': 1024},\n",
       " {'0': 1024},\n",
       " {'0': 1024},\n",
       " {'0': 1024},\n",
       " {'0': 1024},\n",
       " {'0': 1024},\n",
       " {'0': 1024},\n",
       " {'0': 1024},\n",
       " {'0': 1024},\n",
       " {'0': 1024},\n",
       " {'0': 1024},\n",
       " {'0': 1024},\n",
       " {'0': 1024},\n",
       " {'0': 1024},\n",
       " {'0': 1024},\n",
       " {'0': 1024},\n",
       " {'0': 1024},\n",
       " {'0': 1024},\n",
       " {'0': 1024},\n",
       " {'0': 1024},\n",
       " {'0': 1024},\n",
       " {'0': 1024},\n",
       " {'0': 1024},\n",
       " {'0': 1024},\n",
       " {'0': 1024},\n",
       " {'0': 1024},\n",
       " {'0': 1024},\n",
       " {'0': 1024},\n",
       " {'0': 1024}]"
      ]
     },
     "execution_count": 49,
     "metadata": {},
     "output_type": "execute_result"
    }
   ],
   "source": [
    "counts"
   ]
  },
  {
   "cell_type": "code",
   "execution_count": null,
   "id": "bf4600dc",
   "metadata": {},
   "outputs": [],
   "source": []
  }
 ],
 "metadata": {
  "kernelspec": {
   "display_name": "Python 3",
   "language": "python",
   "name": "python3"
  },
  "language_info": {
   "codemirror_mode": {
    "name": "ipython",
    "version": 3
   },
   "file_extension": ".py",
   "mimetype": "text/x-python",
   "name": "python",
   "nbconvert_exporter": "python",
   "pygments_lexer": "ipython3",
   "version": "3.9.4"
  }
 },
 "nbformat": 4,
 "nbformat_minor": 5
}
