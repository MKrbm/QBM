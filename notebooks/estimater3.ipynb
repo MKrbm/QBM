{
 "cells": [
  {
   "cell_type": "code",
   "execution_count": 1,
   "id": "f8f19dc5",
   "metadata": {},
   "outputs": [],
   "source": [
    "import sys\n",
    "import os\n",
    "path = '/home/keisuke/Documents/UT/TODO lab/QBM/qiskit'\n",
    "if path not in sys.path:\n",
    "    sys.path.append(path)"
   ]
  },
  {
   "cell_type": "code",
   "execution_count": 25,
   "id": "53f2e747",
   "metadata": {},
   "outputs": [],
   "source": [
    "import numpy as np\n",
    "from qiskit import *\n",
    "import qiskit.quantum_info as qi\n",
    "from qiskit.circuit import Parameter\n",
    "from qiskit.quantum_info import Statevector, partial_trace, DensityMatrix\n",
    "from qiskit.quantum_info.operators import Operator\n",
    "from sklearn.linear_model import Ridge, LinearRegression\n",
    "import numpy as np\n",
    "\n",
    "from functions import utils_, evolve\n",
    "from importlib import reload\n",
    "import scipy\n",
    "\n",
    "%matplotlib inline"
   ]
  },
  {
   "cell_type": "code",
   "execution_count": 3,
   "id": "be9475f0",
   "metadata": {},
   "outputs": [],
   "source": [
    "reload(utils_)\n",
    "reload(evolve)\n",
    "ham_dict = {}\n",
    "ham_dict['ham'] = ['zz']\n",
    "ham_dict['pos'] = [[0,1]]\n",
    "\n",
    "# ham_dict['c'] = [3,2]\n",
    "ham_dict['c'] = np.array([0.5])\n",
    "\n",
    "n = (np.array(ham_dict['pos']).max() + 1) * 2\n",
    "VQS_ = utils_.VQS(n)\n",
    "VQS_.set_ham(ham_dict)\n",
    "\n"
   ]
  },
  {
   "cell_type": "code",
   "execution_count": 5,
   "id": "7e34830e",
   "metadata": {},
   "outputs": [
    {
     "name": "stdout",
     "output_type": "stream",
     "text": [
      "backend :  aer_simulator(fake_sydney)\n",
      "backend :  aer_simulator(fake_sydney)\n"
     ]
    }
   ],
   "source": [
    "QITE = evolve.time_evolution(VQS_, backend_name='FakeSydney')\n",
    "# ham_dict['c'] = np.array([0.1, 1.0, 1.0, 0.5], dtype=np.float64)\n",
    "_, fid_ = QITE.seq_QITE(ham_dict, rate=10, n_iter = 10**3)\n"
   ]
  },
  {
   "cell_type": "code",
   "execution_count": 6,
   "id": "aa44f1ea",
   "metadata": {},
   "outputs": [
    {
     "data": {
      "text/plain": [
       "[0.959929598823055,\n",
       " 0.9727337548457538,\n",
       " 0.9822657519015773,\n",
       " 0.9898825498385845,\n",
       " 0.9955221272841901]"
      ]
     },
     "execution_count": 6,
     "metadata": {},
     "output_type": "execute_result"
    }
   ],
   "source": [
    "QITE = evolve.time_evolution(VQS_, backend_name=None)\n",
    "# ham_dict['c'] = np.array([0.1, 1.0, 1.0, 0.5], dtype=np.float64)\n",
    "_, fid2_ = QITE.seq_QITE(ham_dict, rate=10, n_iter = 10**3)"
   ]
  },
  {
   "cell_type": "code",
   "execution_count": 12,
   "id": "2a88ee02",
   "metadata": {},
   "outputs": [
    {
     "name": "stdout",
     "output_type": "stream",
     "text": [
      "[0.1 1.  1.  0.5] 0.7651906687104837\n",
      "[-0.12007944 -0.15205821  0.04313793 -0.02165557]\n",
      "[-0.02007944  0.84794179  1.04313793  0.47834443] 0.8139917315455689\n",
      "[ 0.00581706 -0.0897129  -0.01131737  0.03203874]\n",
      "[-0.01426238  0.75822889  1.03182056  0.51038317] 0.8286247530059402\n"
     ]
    }
   ],
   "source": [
    "QITE = evolve.time_evolution(VQS_)\n",
    "ham_dict['c'] = np.array([0.1, 1.0, 1.0, 0.5], dtype=np.float64)\n",
    "fid = []\n",
    "for _ in range(3):\n",
    "    if _ == 0:\n",
    "        _, fid_ = QITE.seq_QITE(ham_dict, rate=20, n_iter = 10**3)\n",
    "    else:\n",
    "        _, fid_ = QITE.seq_QITE(ham_dict, rate=10, n_iter = 10**4)\n",
    "    ham_dict['c'] += np.random.normal(scale=0.2, size=4)\n",
    "    print(QITE.old_c, fid_[-1])\n",
    "    fid.append(fid_[-1])"
   ]
  },
  {
   "cell_type": "code",
   "execution_count": 21,
   "id": "50f74e77",
   "metadata": {},
   "outputs": [
    {
     "data": {
      "text/plain": [
       "<qiskit.circuit.instructionset.InstructionSet at 0x7f49b528ab90>"
      ]
     },
     "execution_count": 21,
     "metadata": {},
     "output_type": "execute_result"
    }
   ],
   "source": [
    "s = VQS_.state()\n",
    "s2 = VQS_.state()\n",
    "s.ccx(0,1,2)"
   ]
  },
  {
   "cell_type": "code",
   "execution_count": 23,
   "id": "dc9c60ca",
   "metadata": {},
   "outputs": [
    {
     "data": {
      "image/png": "[encoded data removed]",
      "text/plain": [
       "<Figure size 641.378x264.88 with 1 Axes>"
      ]
     },
     "execution_count": 23,
     "metadata": {},
     "output_type": "execute_result"
    }
   ],
   "source": [
    "s = s.combine(s2)\n",
    "s.draw('mpl')"
   ]
  },
  {
   "cell_type": "code",
   "execution_count": 24,
   "id": "0c0a384c",
   "metadata": {},
   "outputs": [],
   "source": [
    "from qiskit.test.mock import FakeSydney\n",
    "from qiskit.providers.aer import AerSimulator\n",
    "\n",
    "device_backend = FakeSydney()\n",
    "# backend = AerSimulator.from_backend(device_backend)\n",
    "backend = Aer.get_backend('aer_simulator')\n",
    "\n",
    "theta = np.zeros(VQS_.n_params)\n",
    "circ = VQS_.state()\n",
    "\n",
    "tcirc = transpile(circ, backend)\n",
    "\n",
    "\n",
    "params = {VQS_.P[i] : theta[i] for i in range(VQS_.n_params)}\n",
    "\n",
    "tcirc = tcirc.bind_parameters(params)\n",
    "\n",
    "cr = ClassicalRegister(int(VQS_.n/2),'c')\n",
    "tcirc.add_register(cr)\n",
    "tcirc.measure([i for i in range(int(VQS_.n/2))], [i for i in range(int(VQS_.n/2))])\n",
    "# # Execute noisy simulation and get counts\n",
    "result = execute(tcirc, backend, shots=1000).result()\n",
    "counts_noise = result.get_counts(0)"
   ]
  },
  {
   "cell_type": "code",
   "execution_count": 64,
   "id": "66aa1080",
   "metadata": {},
   "outputs": [
    {
     "data": {
      "text/plain": [
       "<functions.utils_.VQS at 0x7f98fe82a7d0>"
      ]
     },
     "execution_count": 64,
     "metadata": {},
     "output_type": "execute_result"
    }
   ],
   "source": [
    "VQS_"
   ]
  },
  {
   "cell_type": "code",
   "execution_count": 67,
   "id": "15b804b4",
   "metadata": {},
   "outputs": [],
   "source": [
    "from qiskit.test.mock import *"
   ]
  },
  {
   "cell_type": "code",
   "execution_count": 70,
   "id": "ed789b0b",
   "metadata": {},
   "outputs": [
    {
     "data": {
      "text/plain": [
       "<FakeSydney('fake_sydney') from None()>"
      ]
     },
     "execution_count": 70,
     "metadata": {},
     "output_type": "execute_result"
    }
   ],
   "source": [
    "function_name = \"FakeSydney\"\n",
    "eval(function_name + \"()\")"
   ]
  },
  {
   "cell_type": "code",
   "execution_count": 43,
   "id": "8d9d27b5",
   "metadata": {},
   "outputs": [],
   "source": [
    "tcirc.add_register(cr)"
   ]
  },
  {
   "cell_type": "code",
   "execution_count": 49,
   "id": "104f6700",
   "metadata": {},
   "outputs": [
    {
     "ename": "AttributeError",
     "evalue": "'InstructionSet' object has no attribute 'measure'",
     "output_type": "error",
     "traceback": [
      "\u001b[0;31m---------------------------------------------------------------------------\u001b[0m",
      "\u001b[0;31mAttributeError\u001b[0m                            Traceback (most recent call last)",
      "\u001b[0;32m<ipython-input-49-d53820c67a71>\u001b[0m in \u001b[0;36m<module>\u001b[0;34m\u001b[0m\n\u001b[0;32m----> 1\u001b[0;31m \u001b[0mtcirc\u001b[0m\u001b[0;34m.\u001b[0m\u001b[0mmeasure\u001b[0m\u001b[0;34m(\u001b[0m\u001b[0;34m[\u001b[0m\u001b[0mi\u001b[0m \u001b[0;32mfor\u001b[0m \u001b[0mi\u001b[0m \u001b[0;32min\u001b[0m \u001b[0mrange\u001b[0m\u001b[0;34m(\u001b[0m\u001b[0mint\u001b[0m\u001b[0;34m(\u001b[0m\u001b[0mVQS_\u001b[0m\u001b[0;34m.\u001b[0m\u001b[0mn\u001b[0m\u001b[0;34m/\u001b[0m\u001b[0;36m2\u001b[0m\u001b[0;34m)\u001b[0m\u001b[0;34m)\u001b[0m\u001b[0;34m]\u001b[0m\u001b[0;34m,\u001b[0m \u001b[0;34m[\u001b[0m\u001b[0mi\u001b[0m \u001b[0;32mfor\u001b[0m \u001b[0mi\u001b[0m \u001b[0;32min\u001b[0m \u001b[0mrange\u001b[0m\u001b[0;34m(\u001b[0m\u001b[0mint\u001b[0m\u001b[0;34m(\u001b[0m\u001b[0mVQS_\u001b[0m\u001b[0;34m.\u001b[0m\u001b[0mn\u001b[0m\u001b[0;34m/\u001b[0m\u001b[0;36m2\u001b[0m\u001b[0;34m)\u001b[0m\u001b[0;34m)\u001b[0m\u001b[0;34m]\u001b[0m\u001b[0;34m)\u001b[0m\u001b[0;34m\u001b[0m\u001b[0;34m\u001b[0m\u001b[0m\n\u001b[0m\u001b[1;32m      2\u001b[0m \u001b[0mtcirc\u001b[0m\u001b[0;34m.\u001b[0m\u001b[0mdraw\u001b[0m\u001b[0;34m(\u001b[0m\u001b[0;34m'mpl'\u001b[0m\u001b[0;34m)\u001b[0m\u001b[0;34m\u001b[0m\u001b[0;34m\u001b[0m\u001b[0m\n",
      "\u001b[0;31mAttributeError\u001b[0m: 'InstructionSet' object has no attribute 'measure'"
     ]
    }
   ],
   "source": [
    "\n",
    "tcirc.draw('mpl')"
   ]
  },
  {
   "cell_type": "code",
   "execution_count": 758,
   "id": "660d2275",
   "metadata": {},
   "outputs": [],
   "source": [
    "estimator = utils_.estimate_params3(VQS_)\n",
    "# theta = np.zeros(VQS_.n_params)"
   ]
  },
  {
   "cell_type": "code",
   "execution_count": 759,
   "id": "1a7ea203",
   "metadata": {},
   "outputs": [
    {
     "name": "stdout",
     "output_type": "stream",
     "text": [
      "i = 0 tau=0.1: F = 0.98976\n",
      "i = 1 tau=0.2: F = 0.99493\n",
      "i = 2 tau=0.3: F = 0.99807\n",
      "i = 3 tau=0.4: F = 0.99963\n",
      "i = 4 tau=0.5: F = 0.99992\n"
     ]
    }
   ],
   "source": [
    "#### from qiskit.quantum_info import Statevector, partial_trace, DensityMatrix\n",
    "\n",
    "tau = 0\n",
    "fid_list = []\n",
    "rho_list = []\n",
    "N_ = [5]\n",
    "for N in N_:\n",
    "    delta = (1/2)/N\n",
    "\n",
    "#     theta = np.zeros(VQS_.n_params)\n",
    "    i = 0\n",
    "    while True:\n",
    "\n",
    "        estimator.set_theta(theta)\n",
    "        A,C = estimator.estimate_AC(NUM = 5*10**4)\n",
    "        \n",
    "#         est2.params = params\n",
    "#         A, C = est2.estimate_AC(NUM = 10**3)\n",
    "        clf = Ridge(fit_intercept=False, alpha=1e-6)\n",
    "        clf.fit(A, C)\n",
    "#         clf = LinearRegression().fit(A, C)\n",
    "        theta += clf.coef_ * delta\n",
    "        tau += delta\n",
    "        \n",
    "        \n",
    "        \n",
    "#         gibbs_1_density = DensityMatrix(gibbs_1)\n",
    "        gibbs_1 = scipy.linalg.expm(-(VQS2_.return_ham(boltzmann=True)))\n",
    "        gibbs_1 /= np.trace(gibbs_1)\n",
    "\n",
    "\n",
    "\n",
    "        gibbs_1_density = DensityMatrix(gibbs_1)\n",
    "\n",
    "        \n",
    "        params = {VQS_.P[i] : theta[i] for i in range(VQS_.n_params)}\n",
    "        rho1 = VQS_.state().bind_parameters(params)\n",
    "        out = Statevector.from_instruction(rho1)\n",
    "        rho1_ = partial_trace(out,[2,3])\n",
    "\n",
    "        Fidelity = qi.state_fidelity(rho1_, gibbs_1_density)\n",
    "        fid_list.append(Fidelity)\n",
    "        rho_list.append(rho1)\n",
    "        \n",
    "        print('i = {} tau={}: F = {:.5f}'.format(i, round(tau,3), Fidelity))\n",
    "\n",
    "        \n",
    "        \n",
    "        if round(tau,3) >= 1/2:\n",
    "            break\n",
    "        i += 1\n"
   ]
  },
  {
   "cell_type": "code",
   "execution_count": null,
   "id": "7c1a5073",
   "metadata": {},
   "outputs": [],
   "source": [
    "evolve"
   ]
  }
 ],
 "metadata": {
  "kernelspec": {
   "display_name": "Python 3",
   "language": "python",
   "name": "python3"
  },
  "language_info": {
   "codemirror_mode": {
    "name": "ipython",
    "version": 3
   },
   "file_extension": ".py",
   "mimetype": "text/x-python",
   "name": "python",
   "nbconvert_exporter": "python",
   "pygments_lexer": "ipython3",
   "version": "3.8.5"
  }
 },
 "nbformat": 4,
 "nbformat_minor": 5
}
