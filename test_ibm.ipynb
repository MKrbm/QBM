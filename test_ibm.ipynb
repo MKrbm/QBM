{
 "cells": [
  {
   "cell_type": "code",
   "execution_count": 3,
   "id": "c4a19749",
   "metadata": {},
   "outputs": [],
   "source": [
    "import numpy as np\n",
    "from qiskit import *\n",
    "from qiskit.circuit import Parameter\n",
    "import qiskit.quantum_info as qi"
   ]
  },
  {
   "cell_type": "code",
   "execution_count": 9,
   "id": "17c63b30",
   "metadata": {},
   "outputs": [
    {
     "name": "stderr",
     "output_type": "stream",
     "text": [
      "ibmqfactory.load_account:WARNING:2021-05-19 22:13:57,211: Credentials are already in use. The existing account in the session will be replaced.\n"
     ]
    }
   ],
   "source": [
    "from qiskit import IBMQ\n",
    "from IBM_Q import API_IBM\n",
    "\n",
    "IBMQ.save_account(API_IBM, overwrite=True)\n",
    "\n",
    "\n",
    "IBMQ.load_account() # Load account from disk\n",
    "IBMQ.providers()    # List all available providers"
   ]
  },
  {
   "cell_type": "code",
   "execution_count": 14,
   "id": "566f3f88",
   "metadata": {},
   "outputs": [
    {
     "data": {
      "text/plain": [
       "[<AccountProvider for IBMQ(hub='ibm-q', group='open', project='main')>,\n",
       " <AccountProvider for IBMQ(hub='ibm-q-utokyo', group='internal', project='qc2021s')>]"
      ]
     },
     "execution_count": 14,
     "metadata": {},
     "output_type": "execute_result"
    }
   ],
   "source": [
    "IBMQ.providers() "
   ]
  },
  {
   "cell_type": "code",
   "execution_count": 15,
   "id": "762c48c0",
   "metadata": {},
   "outputs": [],
   "source": [
    "provider = IBMQ.get_provider(hub='ibm-q-utokyo')"
   ]
  },
  {
   "cell_type": "code",
   "execution_count": 16,
   "id": "38b63502",
   "metadata": {},
   "outputs": [
    {
     "data": {
      "text/plain": [
       "[<IBMQSimulator('ibmq_qasm_simulator') from IBMQ(hub='ibm-q-utokyo', group='internal', project='qc2021s')>,\n",
       " <IBMQBackend('ibmqx2') from IBMQ(hub='ibm-q-utokyo', group='internal', project='qc2021s')>,\n",
       " <IBMQBackend('ibmq_16_melbourne') from IBMQ(hub='ibm-q-utokyo', group='internal', project='qc2021s')>,\n",
       " <IBMQBackend('ibmq_armonk') from IBMQ(hub='ibm-q-utokyo', group='internal', project='qc2021s')>,\n",
       " <IBMQBackend('ibmq_athens') from IBMQ(hub='ibm-q-utokyo', group='internal', project='qc2021s')>,\n",
       " <IBMQBackend('ibmq_rome') from IBMQ(hub='ibm-q-utokyo', group='internal', project='qc2021s')>,\n",
       " <IBMQBackend('ibmq_montreal') from IBMQ(hub='ibm-q-utokyo', group='internal', project='qc2021s')>,\n",
       " <IBMQBackend('ibmq_toronto') from IBMQ(hub='ibm-q-utokyo', group='internal', project='qc2021s')>,\n",
       " <IBMQBackend('ibmq_santiago') from IBMQ(hub='ibm-q-utokyo', group='internal', project='qc2021s')>,\n",
       " <IBMQBackend('ibmq_bogota') from IBMQ(hub='ibm-q-utokyo', group='internal', project='qc2021s')>,\n",
       " <IBMQBackend('ibmq_manhattan') from IBMQ(hub='ibm-q-utokyo', group='internal', project='qc2021s')>,\n",
       " <IBMQBackend('ibmq_casablanca') from IBMQ(hub='ibm-q-utokyo', group='internal', project='qc2021s')>,\n",
       " <IBMQBackend('ibmq_sydney') from IBMQ(hub='ibm-q-utokyo', group='internal', project='qc2021s')>,\n",
       " <IBMQBackend('ibmq_lima') from IBMQ(hub='ibm-q-utokyo', group='internal', project='qc2021s')>,\n",
       " <IBMQBackend('ibmq_belem') from IBMQ(hub='ibm-q-utokyo', group='internal', project='qc2021s')>,\n",
       " <IBMQBackend('ibmq_quito') from IBMQ(hub='ibm-q-utokyo', group='internal', project='qc2021s')>,\n",
       " <IBMQBackend('ibmq_guadalupe') from IBMQ(hub='ibm-q-utokyo', group='internal', project='qc2021s')>,\n",
       " <IBMQSimulator('simulator_statevector') from IBMQ(hub='ibm-q-utokyo', group='internal', project='qc2021s')>,\n",
       " <IBMQSimulator('simulator_mps') from IBMQ(hub='ibm-q-utokyo', group='internal', project='qc2021s')>,\n",
       " <IBMQSimulator('simulator_extended_stabilizer') from IBMQ(hub='ibm-q-utokyo', group='internal', project='qc2021s')>,\n",
       " <IBMQSimulator('simulator_stabilizer') from IBMQ(hub='ibm-q-utokyo', group='internal', project='qc2021s')>]"
      ]
     },
     "execution_count": 16,
     "metadata": {},
     "output_type": "execute_result"
    }
   ],
   "source": [
    "provider.backends()"
   ]
  },
  {
   "cell_type": "code",
   "execution_count": 18,
   "id": "9dff17cc",
   "metadata": {},
   "outputs": [],
   "source": [
    "backend = provider.get_backend('ibmq_montreal')"
   ]
  },
  {
   "cell_type": "code",
   "execution_count": 13,
   "id": "1ef67f88",
   "metadata": {},
   "outputs": [
    {
     "data": {
      "text/plain": [
       "[]"
      ]
     },
     "execution_count": 13,
     "metadata": {},
     "output_type": "execute_result"
    }
   ],
   "source": [
    "# provider.backends('ibmq_sydney')"
   ]
  },
  {
   "cell_type": "code",
   "execution_count": 19,
   "id": "fd5d4647",
   "metadata": {},
   "outputs": [],
   "source": [
    "q = QuantumRegister(3)\n",
    "c = ClassicalRegister(2)"
   ]
  },
  {
   "cell_type": "code",
   "execution_count": 20,
   "id": "12e56af3",
   "metadata": {},
   "outputs": [
    {
     "data": {
      "text/plain": [
       "<qiskit.circuit.instructionset.InstructionSet at 0x7ff7b6ef6d60>"
      ]
     },
     "execution_count": 20,
     "metadata": {},
     "output_type": "execute_result"
    }
   ],
   "source": [
    "u_circuit = QuantumCircuit(q,c, name='teleportation')\n",
    "\n",
    "\n",
    "theta = Parameter('θ')\n",
    "phi = Parameter('φ')\n",
    "psy = Parameter('ψ')\n",
    "\n",
    "\n",
    "u_circuit.u(theta,phi,psy,q[0])\n",
    "u_circuit.barrier(q)\n",
    "\n",
    "qc = QuantumCircuit(q,c, name='teleportation')\n",
    "\n",
    "\n",
    "qc.h(q[1])\n",
    "qc.cnot(q[1],q[2])\n",
    "qc.x(q[1])\n",
    "qc.barrier(q)\n",
    "\n",
    "qc.cnot(q[0],q[1])\n",
    "qc.h(q[0])\n",
    "qc.barrier(q)\n",
    "\n",
    "qc.measure([q[0],q[1]],[c[0],c[1]])\n",
    "\n",
    "\n",
    "qc.x(q[2]).c_if(c, 0)\n",
    "qc.z(q[2]).c_if(c, 3)\n",
    "qc.z(q[2]).c_if(c, 2)\n",
    "qc.x(q[2]).c_if(c, 2)"
   ]
  },
  {
   "cell_type": "code",
   "execution_count": 21,
   "id": "a453196f",
   "metadata": {},
   "outputs": [],
   "source": [
    "T = np.random.rand(3) * np.pi\n",
    "parameters = {theta:T[0], phi:T[1], psy:T[2]}\n",
    "u_circuit_ = u_circuit.bind_parameters(parameters)"
   ]
  },
  {
   "cell_type": "code",
   "execution_count": 8,
   "id": "6e8417b8",
   "metadata": {},
   "outputs": [
    {
     "name": "stdout",
     "output_type": "stream",
     "text": [
      "DensityMatrix([[ 0.3118348 +0.j        , -0.00761719-0.46318013j],\n",
      "               [-0.00761719+0.46318013j,  0.6881652 +0.j        ]],\n",
      "              dims=(2,))\n"
     ]
    }
   ],
   "source": [
    "backend = BasicAer.get_backend('statevector_simulator')\n",
    "job = execute(u_circuit_, backend)\n",
    "qc_state = qi.Statevector(job.result().get_statevector(u_circuit_))\n",
    "qi.partial_trace(qc_state,[1,2])"
   ]
  },
  {
   "cell_type": "code",
   "execution_count": 9,
   "id": "f23b6251",
   "metadata": {},
   "outputs": [
    {
     "name": "stdout",
     "output_type": "stream",
     "text": [
      "DensityMatrix([[ 0.3118348 +0.j        , -0.00761719-0.46318013j],\n",
      "               [-0.00761719+0.46318013j,  0.6881652 +0.j        ]],\n",
      "              dims=(2,))\n"
     ]
    },
    {
     "name": "stderr",
     "output_type": "stream",
     "text": [
      "<ipython-input-9-3ed9c04ba9cc>:1: DeprecationWarning: The QuantumCircuit.combine() method is being deprecated. Use the compose() method which is more flexible w.r.t circuit register compatibility.\n",
      "  original_qc = u_circuit.combine(qc)\n"
     ]
    }
   ],
   "source": [
    "original_qc = u_circuit.combine(qc)\n",
    "original_qc.draw('mpl')\n",
    "\n",
    "original_qc_ = original_qc.bind_parameters(parameters)\n",
    "\n",
    "backend = BasicAer.get_backend('statevector_simulator')\n",
    "job = execute(original_qc_, backend)\n",
    "qc_state = qi.Statevector(job.result().get_statevector(original_qc_))\n",
    "qi.partial_trace(qc_state,[0,1])"
   ]
  },
  {
   "cell_type": "code",
   "execution_count": null,
   "id": "cdf8f7cf",
   "metadata": {},
   "outputs": [],
   "source": []
  },
  {
   "cell_type": "code",
   "execution_count": null,
   "id": "c54d2ca2",
   "metadata": {},
   "outputs": [],
   "source": []
  },
  {
   "cell_type": "code",
   "execution_count": null,
   "id": "6033a7b5",
   "metadata": {},
   "outputs": [],
   "source": []
  }
 ],
 "metadata": {
  "kernelspec": {
   "display_name": "Python 3",
   "language": "python",
   "name": "python3"
  },
  "language_info": {
   "codemirror_mode": {
    "name": "ipython",
    "version": 3
   },
   "file_extension": ".py",
   "mimetype": "text/x-python",
   "name": "python",
   "nbconvert_exporter": "python",
   "pygments_lexer": "ipython3",
   "version": "3.9.4"
  }
 },
 "nbformat": 4,
 "nbformat_minor": 5
}
